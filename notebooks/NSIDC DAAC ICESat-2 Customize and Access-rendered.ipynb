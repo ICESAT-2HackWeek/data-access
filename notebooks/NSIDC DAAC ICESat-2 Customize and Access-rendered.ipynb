{
 "cells": [
  {
   "cell_type": "markdown",
   "metadata": {},
   "source": [
    "# Access and Customize ICESat-2 Data Tutorial\n",
    "\n",
    "#### This tutorial will walk you though how to discover access ICESat-2 data at the NASA National Snow and Ice Data Center Distributed Active Archive Center (NSIDC DAAC) using spatial and temporal filters, as well as how to request  customization services including subsetting and reformatting using an Application Programming Interface, or API. \n",
    "\n",
    "#### Here are the steps you will learn in this tutorial:\n",
    "       1) Set up NASA Earthdata Login authentication for direct data access.\n",
    "       2) Obtain data set metadata.\n",
    "       3) Input data set search criteria using spatial and temporal filters. \n",
    "       4) Explore different methods of specifying spatial criteria including lat/lon bounds,\n",
    "       polygon coordinate pairs, and polygon input from a Shapefile or KML.  \n",
    "       5) Search for matching files and receiving information about file volume.\n",
    "       6) Obtain information about subsetting and reformatting capabilities for a specfic data set.\n",
    "       7) Configure data request by \"chunking\" request by file number. \n",
    "       8) Submit a request and monitoring the status of the request.\n",
    "       9) Compare subsetted and original, \"native\" data outputs.\n",
    "       \n",
    "#### Data Used:\n",
    "* `s3://pangeo-data-upload-oregon/icesat2/pine_island_glims/glims_polygons.kml` \n",
    "* `s3://pangeo-data-upload-oregon/icesat2/data-access-subsetted-outputs/`\n",
    "* `s3://pangeo-data-upload-oregon/icesat2/data-access-outputs/`\n",
    "\n"
   ]
  },
  {
   "cell_type": "markdown",
   "metadata": {},
   "source": [
    "## Import packages\n"
   ]
  },
  {
   "cell_type": "code",
   "execution_count": 1,
   "metadata": {},
   "outputs": [],
   "source": [
    "import requests\n",
    "import getpass\n",
    "import socket\n",
    "import json\n",
    "import zipfile\n",
    "import io\n",
    "import math\n",
    "import os\n",
    "import shutil\n",
    "import pprint\n",
    "import time\n",
    "import geopandas as gpd\n",
    "import matplotlib.pyplot as plt\n",
    "import fiona\n",
    "import h5py\n",
    "import re\n",
    "# To read KML files with geopandas, we will need to enable KML support in fiona (disabled by default)\n",
    "fiona.drvsupport.supported_drivers['LIBKML'] = 'rw'\n",
    "from shapely.geometry import Polygon, mapping\n",
    "from shapely.geometry.polygon import orient\n",
    "from statistics import mean\n",
    "from requests.auth import HTTPBasicAuth"
   ]
  },
  {
   "cell_type": "markdown",
   "metadata": {},
   "source": [
    "## Pull data from s3 bucket\n",
    "\n",
    "#### We will pull the following folders from our Amazon s3 bucket:\n",
    "    1) Pine Island Glacier outline\n",
    "    2) Data outputs with subsetting applied\n",
    "    3) Data outputs without subsetting applied\n",
    "\n",
    "#### The Pine Island Glacier outline will be used below for filtering and subsetting the data. We are also pulling the data outputs that we will request directly from NSIDC below, so we can have a quick look at the data outside of the access request.\n",
    "\n",
    "Steps to pull data from s3:\n",
    "\n",
    "    1) Open terminal window in Pangeo: File -> New -> Terminal\n",
    "    2) Move to the data-access notebook working directory by changing to the following directory:\n",
    "\n",
    "`cd /home/jovyan/data-access/`\n",
    "    \n",
    "    3) Copy each line to your terminal and hit enter in between each line:\n",
    "\n",
    "`aws s3 sync s3://pangeo-data-upload-oregon/icesat2/pine_island_glims/ pine_island_glims/` </br>\n",
    "`aws s3 sync s3://pangeo-data-upload-oregon/icesat2/data-access-outputs/ data-access-outputs/` </br>\n",
    "`aws s3 sync s3://pangeo-data-upload-oregon/icesat2/data-access-subsetted-outputs/ data-access-subsetted-outputs/ `\n",
    "\n",
    "#### Data Sources:\n",
    "The Pine Island Glacier outline was originally downloaded from the the NSIDC [Global Land Ice Measurements from Space (GLIMS) database](http://www.glims.org/maps/glims). Direct download access: http://www.glims.org/maps/info.html?anlys_id=528486\n",
    "\n",
    "The unsubsetted data are from the ATL06 data set (more resources below): https://doi.org/10.5067/ATLAS/ATL06.001\n",
    "\n",
    "The subsetted data were generated using the [NASA Earth Observing System Data and Information System (EOSDIS)](https://earthdata.nasa.gov/eosdis/science-system-description/eosdis-services) Service Interface (ESI)."
   ]
  },
  {
   "cell_type": "markdown",
   "metadata": {},
   "source": [
    "## Create a token\n",
    "\n",
    "#### We will generate a token needed in order to access data using your Earthdata Login credentials, and we will apply that token to the following queries. If you do not already have an Earthdata Login account, go to http://urs.earthdata.nasa.gov to register. Your password will be prompted for privacy."
   ]
  },
  {
   "cell_type": "code",
   "execution_count": 2,
   "metadata": {},
   "outputs": [
    {
     "name": "stdin",
     "output_type": "stream",
     "text": [
      "Earthdata Login password:  ·········\n"
     ]
    }
   ],
   "source": [
    "# Earthdata Login credentials\n",
    "\n",
    "# Enter your Earthdata Login user name\n",
    "uid = 'amy.steiker'\n",
    "# Enter your email address associated with your Earthdata Login account\n",
    "email = 'amy.steiker@nsidc.org'\n",
    "pswd = getpass.getpass('Earthdata Login password: ')"
   ]
  },
  {
   "cell_type": "code",
   "execution_count": 3,
   "metadata": {
    "attributes": {
     "classes": [],
     "id": "",
     "n": "3"
    }
   },
   "outputs": [
    {
     "name": "stdout",
     "output_type": "stream",
     "text": [
      "94D4B84A-3632-850A-AC97-C94CC2D8C815\n"
     ]
    }
   ],
   "source": [
    "# Request token from Common Metadata Repository using Earthdata credentials\n",
    "token_api_url = 'https://cmr.earthdata.nasa.gov/legacy-services/rest/tokens'\n",
    "hostname = socket.gethostname()\n",
    "ip = socket.gethostbyname(hostname)\n",
    "\n",
    "data = {\n",
    "    'token': {\n",
    "        'username': uid,\n",
    "        'password': pswd,\n",
    "        'client_id': 'NSIDC_client_id',\n",
    "        'user_ip_address': ip\n",
    "    }\n",
    "}\n",
    "headers={'Accept': 'application/json'}\n",
    "response = requests.post(token_api_url, json=data, headers=headers)\n",
    "token = json.loads(response.content)['token']['id']\n",
    "print(token)"
   ]
  },
  {
   "cell_type": "markdown",
   "metadata": {},
   "source": [
    "## Select a data set of interest and explore resources available through NSIDC. "
   ]
  },
  {
   "cell_type": "markdown",
   "metadata": {},
   "source": [
    "#### Let's begin discovering ICESat-2 data by first inputting the data set of interest.\n",
    "\n",
    "#### See the [ICESat-2 Data Sets](https://nsidc.org/data/icesat-2/data-sets \"ICESat-2 Data Sets\") page for a list of all ICESat-2 data set titles and IDs. Below we will input data set ID ATL06, which is the ID for the \"ATLAS/ICESat-2 L3A Land Ice Height\" data set."
   ]
  },
  {
   "cell_type": "code",
   "execution_count": 4,
   "metadata": {},
   "outputs": [],
   "source": [
    "# Input data set ID (e.g. ATL06) of interest here, also known as \"short name\".\n",
    "\n",
    "short_name = 'ATL06'"
   ]
  },
  {
   "cell_type": "markdown",
   "metadata": {},
   "source": [
    "### From the ICESat-2 Data Sets page, you can find a link to each data set home page:\n",
    "\n",
    "ATL03: https://nsidc.org/data/atl03 </br>\n",
    "ATL06: https://nsidc.org/data/atl06 </br>\n",
    "ATL07: https://nsidc.org/data/atl07\n",
    "\n",
    "### From that home page, several resources are available, including an online user guide (within the User Guide tab of the landing page):\n",
    "\n",
    "ATL03: https://nsidc.org/data/atl03?qt-data_set_tabs=3#qt-data_set_tabs </br>\n",
    "ATL06: https://nsidc.org/data/atl06?qt-data_set_tabs=3#qt-data_set_tabs </br>\n",
    "ATL07: https://nsidc.org/data/atl07?qt-data_set_tabs=3#qt-data_set_tabs\n",
    "\n",
    "### As well as a data dictionary with every data set variable described in detail:\n",
    "\n",
    "ATL03: https://nsidc.org/sites/nsidc.org/files/technical-references/ATL03-data-dictionary-v001.pdf </br>\n",
    "ATL06: https://nsidc.org/sites/nsidc.org/files/technical-references/ATL06-data-dictionary-v001.pdf </br>\n",
    "ATL07: https://nsidc.org/sites/nsidc.org/files/technical-references/ATL07-data-dictionary-v001.pdf"
   ]
  },
  {
   "cell_type": "markdown",
   "metadata": {},
   "source": [
    "### A note on data access options:\n",
    "\n",
    "We will be pursuing data discovery and access \"programmatically\" using Application Programming Interfaces, or APIs. \n",
    "\n",
    "_What is an API? API stands for Application Programming Interface. You can think of it as a middle man between an application or end-use (in this case, us) and a data provider. In this case, the data provider is both the metadata repository housing ICESat-2 data information (the [Common Metadata Repository](https://earthdata.nasa.gov/eosdis/science-system-description/eosdis-components/cmr) and NSIDC). These APIs are essentially structured as a URL with a base plus individual key-value-pairs (KVPs) separated by ‘&’._\n",
    "\n",
    "There are other discovery and access methods available from NSIDC, as you can see from the data set home pages under the 'Download Data' tab, including [OpenAltimetry](https://openaltimetry.org/) and [NASA Earthdata Search](http://search.earthdata.nasa.gov). "
   ]
  },
  {
   "cell_type": "markdown",
   "metadata": {},
   "source": [
    "## Determine the number and size of granules available within a time range and location.\n",
    "\n",
    "#### Let's explore information about our data set. We'll start by determining the most recent version number of our data set. We will also find out how many data granules (files) exist over an area and time of interest. [The Common Metadata Repository](https://cmr.earthdata.nasa.gov/search/site/docs/search/api.html \"CMR API documentation\") is queried to explore this information. "
   ]
  },
  {
   "cell_type": "code",
   "execution_count": 5,
   "metadata": {},
   "outputs": [
    {
     "name": "stdout",
     "output_type": "stream",
     "text": [
      "{'feed': {'entry': [{'archive_center': 'NASA NSIDC DAAC',\n",
      "                     'associations': {'services': ['S1568899363-NSIDC_ECS',\n",
      "                                                   'S1613689509-NSIDC_ECS',\n",
      "                                                   'S1613669681-NSIDC_ECS']},\n",
      "                     'boxes': ['-90 -180 90 180'],\n",
      "                     'browse_flag': False,\n",
      "                     'coordinate_system': 'CARTESIAN',\n",
      "                     'data_center': 'NSIDC_ECS',\n",
      "                     'dataset_id': 'ATLAS/ICESat-2 L3A Land Ice Height V001',\n",
      "                     'has_formats': True,\n",
      "                     'has_spatial_subsetting': True,\n",
      "                     'has_temporal_subsetting': True,\n",
      "                     'has_transforms': False,\n",
      "                     'has_variables': True,\n",
      "                     'id': 'C1511847675-NSIDC_ECS',\n",
      "                     'links': [{'href': 'https://n5eil01u.ecs.nsidc.org/ATLAS/ATL06.001/',\n",
      "                                'hreflang': 'en-US',\n",
      "                                'length': '0.0KB',\n",
      "                                'rel': 'http://esipfed.org/ns/fedsearch/1.1/data#'},\n",
      "                               {'href': 'http://nsidc.org/daac/subscriptions.html',\n",
      "                                'hreflang': 'en-US',\n",
      "                                'length': '0.0KB',\n",
      "                                'rel': 'http://esipfed.org/ns/fedsearch/1.1/data#'},\n",
      "                               {'href': 'https://search.earthdata.nasa.gov/search/granules?p=C1511847675-NSIDC_ECS&m=-87.87967837686685!9.890967019347585!1!1!0!0%2C2&tl=1542476530!4!!&q=atl06&ok=atl06',\n",
      "                                'hreflang': 'en-US',\n",
      "                                'length': '0.0KB',\n",
      "                                'rel': 'http://esipfed.org/ns/fedsearch/1.1/data#'},\n",
      "                               {'href': 'https://openaltimetry.org/',\n",
      "                                'hreflang': 'en-US',\n",
      "                                'length': '0.0KB',\n",
      "                                'rel': 'http://esipfed.org/ns/fedsearch/1.1/data#'},\n",
      "                               {'href': 'https://doi.org/10.5067/ATLAS/ATL06.001',\n",
      "                                'hreflang': 'en-US',\n",
      "                                'rel': 'http://esipfed.org/ns/fedsearch/1.1/metadata#'},\n",
      "                               {'href': 'https://doi.org/10.5067/ATLAS/ATL06.001',\n",
      "                                'hreflang': 'en-US',\n",
      "                                'rel': 'http://esipfed.org/ns/fedsearch/1.1/documentation#'}],\n",
      "                     'online_access_flag': True,\n",
      "                     'orbit_parameters': {'inclination_angle': '92.0',\n",
      "                                          'number_of_orbits': '0.071428571',\n",
      "                                          'period': '94.29',\n",
      "                                          'start_circular_latitude': '0.0',\n",
      "                                          'swath_width': '36.0'},\n",
      "                     'organizations': ['NASA NSIDC DAAC',\n",
      "                                       'NASA/GSFC/EOS/ESDIS'],\n",
      "                     'original_format': 'ISO19115',\n",
      "                     'processing_level_id': 'Level 3',\n",
      "                     'short_name': 'ATL06',\n",
      "                     'summary': 'This data set (ATL06) provides geolocated, '\n",
      "                                'land-ice surface heights (above the WGS 84 '\n",
      "                                'ellipsoid, ITRF2014 reference frame), plus '\n",
      "                                'ancillary parameters that can be used to '\n",
      "                                'interpret and assess the quality of the '\n",
      "                                'height estimates. The data were acquired by '\n",
      "                                'the Advanced Topographic Laser Altimeter '\n",
      "                                'System (ATLAS) instrument on board the Ice, '\n",
      "                                'Cloud and land Elevation Satellite-2 '\n",
      "                                '(ICESat-2) observatory.',\n",
      "                     'time_start': '2018-10-14T00:00:00.000Z',\n",
      "                     'title': 'ATLAS/ICESat-2 L3A Land Ice Height V001',\n",
      "                     'version_id': '001'}],\n",
      "          'id': 'https://cmr.earthdata.nasa.gov:443/search/collections.json?short_name=ATL06',\n",
      "          'title': 'ECHO dataset metadata',\n",
      "          'updated': '2019-06-17T04:58:10.318Z'}}\n"
     ]
    }
   ],
   "source": [
    "# Get json response from CMR collection metadata and print results. This provides high-level metadata on a data set or \"collection\", provide in json format.\n",
    "\n",
    "params = {\n",
    "    'short_name': short_name\n",
    "}\n",
    "\n",
    "cmr_collections_url = 'https://cmr.earthdata.nasa.gov/search/collections.json'\n",
    "response = requests.get(cmr_collections_url, params=params)\n",
    "results = json.loads(response.content)\n",
    "pprint.pprint(results)"
   ]
  },
  {
   "cell_type": "markdown",
   "metadata": {},
   "source": [
    "#### There may be cases where more than one data set version exists, which may happen when ICESat-2 data version up. Let's make sure we have the most recent version of our data set."
   ]
  },
  {
   "cell_type": "code",
   "execution_count": 6,
   "metadata": {},
   "outputs": [
    {
     "name": "stdout",
     "output_type": "stream",
     "text": [
      "001\n"
     ]
    }
   ],
   "source": [
    "# Find all instances of 'version_id' in metadata and print most recent version number\n",
    "\n",
    "versions = [i['version_id'] for i in results['feed']['entry']]\n",
    "latest_version = max(versions)\n",
    "print(latest_version)"
   ]
  },
  {
   "cell_type": "markdown",
   "metadata": {},
   "source": [
    "#### Now that we have the most recent version of this data set, let's determine the number of granules available over our area and time of interest. According to the [CMR API documentation](https://cmr.earthdata.nasa.gov/search/site/docs/search/api.html#g-temporal), our time range must be given in `yyyy-MM-ddTHH:mm:ssZ` format."
   ]
  },
  {
   "cell_type": "code",
   "execution_count": 7,
   "metadata": {},
   "outputs": [
    {
     "name": "stdout",
     "output_type": "stream",
     "text": [
      "2019-02-22T00:00:00Z,2019-02-22T23:59:59Z\n"
     ]
    }
   ],
   "source": [
    "# Input temporal range \n",
    "\n",
    "# Input start date in yyyy-MM-dd format\n",
    "start_date = '2019-02-22'\n",
    "# Input start time in HH:mm:ss format\n",
    "start_time = '00:00:00'\n",
    "# Input end date in yyyy-MM-dd format\n",
    "end_date = '2019-02-22'\n",
    "# Input end time in HH:mm:ss format\n",
    "end_time = '23:59:59'\n",
    "\n",
    "temporal = start_date + 'T' + start_time + 'Z' + ',' + end_date + 'T' + end_time + 'Z'\n",
    "print(temporal)"
   ]
  },
  {
   "cell_type": "markdown",
   "metadata": {},
   "source": [
    "### Area of Interest input\n",
    "\n",
    "#### There are three different options for inputting an area of interest to be applied to our granule (file) search:\n",
    "    1) Bounding Box \n",
    "    2) Polygon coordinate pairs \n",
    "    3) Spatial file input, including Esri Shapefile or KML/KMZ. "
   ]
  },
  {
   "cell_type": "markdown",
   "metadata": {},
   "source": [
    "#### For the bounding box option, enter information in the following cell. "
   ]
  },
  {
   "cell_type": "code",
   "execution_count": 8,
   "metadata": {},
   "outputs": [],
   "source": [
    "# # Commenting for tutorial since we will be walking through option 3 (spatial file input) together\n",
    "# # Bounding Box spatial parameter in 'W,S,E,N' format\n",
    "\n",
    "# # Input bounding box\n",
    "# # Input lower left longitude in decimal degrees\n",
    "# LL_lon = '-64'\n",
    "# # Input lower left latitude in decimal degrees\n",
    "# LL_lat = '66'\n",
    "# # Input upper right longitude in decimal degrees\n",
    "# UR_lon = '-55'\n",
    "# # Input upper right latitude in decimal degrees\n",
    "# UR_lat = '72'\n",
    "\n",
    "# bounding_box = LL_lon + ',' + LL_lat + ',' + UR_lon + ',' + UR_lat\n",
    "# # aoi value used for subsetting logic below\n",
    "# aoi = '1'\n",
    "# print(bounding_box)"
   ]
  },
  {
   "cell_type": "markdown",
   "metadata": {},
   "source": [
    "#### For the polygon coordinate pair option, enter the coordinate pairs. We can do this with separate x y lists that we can join and convert to the CMR parameter format."
   ]
  },
  {
   "cell_type": "code",
   "execution_count": 9,
   "metadata": {},
   "outputs": [],
   "source": [
    "## Commenting for tutorial since we will be walking through option 3 (spatial file input) together\n",
    "# # Polygon coordinate pair spatial parameter\n",
    "\n",
    "# #create list of x (longitude) values in decimal degrees\n",
    "# x = []\n",
    "# #create list of y (latitude) values in decimal degrees\n",
    "# y = []\n",
    "# xylist = list(zip(x, y))\n",
    "# # Polygon points need to be provided in counter-clockwise order. The last point should match the first point to close the polygon. \n",
    "# # Input polygon coordinates as comma separated values in longitude latitude order, i.e. lon1, lat1, lon2, lat2, lon3, lat3, and so on.\n",
    "# polygon = ','.join(map(str, list(sum(xylist, ()))))\n",
    "# print(polygon)\n",
    "# # aoi value used for subsetting logic below\n",
    "# aoi = '2'"
   ]
  },
  {
   "cell_type": "markdown",
   "metadata": {},
   "source": [
    "#### Let's focus on the Esri Shapefile or KML/KMZ input option.\n",
    "\n",
    "First, we'll use geopandas to read in the file."
   ]
  },
  {
   "cell_type": "code",
   "execution_count": 10,
   "metadata": {},
   "outputs": [],
   "source": [
    "# Use geopandas to read in polygon file\n",
    "# Note: a shapefile or geojson could be substituted here.\n",
    "\n",
    "kml_filepath = str('/home/jovyan/data-access/pine_island_glims/glims_polygons.kml')\n",
    "\n",
    "#Return a GeoDataFrame object\n",
    "gdf = gpd.read_file(kml_filepath)"
   ]
  },
  {
   "cell_type": "markdown",
   "metadata": {},
   "source": [
    "Simple visualization of the polygon:"
   ]
  },
  {
   "cell_type": "code",
   "execution_count": 11,
   "metadata": {},
   "outputs": [
    {
     "data": {
      "image/png": "[encoded data removed]",
      "text/plain": [
       "<Figure size 864x432 with 1 Axes>"
      ]
     },
     "metadata": {
      "needs_background": "light"
     },
     "output_type": "display_data"
    }
   ],
   "source": [
    "# Load \"Natural Earth” countries dataset, bundled with GeoPandas\n",
    "world = gpd.read_file(gpd.datasets.get_path('naturalearth_lowres'))\n",
    "\n",
    "# Overlay glacier outline\n",
    "f, ax = plt.subplots(1, figsize=(12, 6))\n",
    "world.plot(ax=ax, facecolor='lightgray', edgecolor='gray')\n",
    "gdf.plot(ax=ax, cmap='Set2')\n",
    "ax.set_ylim([-90, 0])\n",
    "ax.set_xlim([-180,0]);"
   ]
  },
  {
   "cell_type": "markdown",
   "metadata": {},
   "source": [
    "#### We need to get from the geopandas GeoDataFrame object to an input that is readable by CMR.\n",
    "\n",
    "According to [CMR documentation](https://cmr.earthdata.nasa.gov/search/site/docs/search/api.html#c-polygon): </br>\n",
    ">Polygon points are provided in counter-clockwise order. The last point should match the first point to close the polygon. The values are listed comma separated in longitude latitude order, i.e. lon1, lat1, lon2, lat2, lon3, lat3, and so on.`\n"
   ]
  },
  {
   "cell_type": "markdown",
   "metadata": {},
   "source": [
    "The following cell will simplify and reorder the GeoDataFrame object using the shapely package and convert the object back to a dictionary to be applied to the CMR polygon parameter. Simplification is needed in order to pass a reasonable request length to CMR. You may need to modify the simplification tolerance depending on the number of points of your polygon."
   ]
  },
  {
   "cell_type": "code",
   "execution_count": 12,
   "metadata": {},
   "outputs": [
    {
     "name": "stdout",
     "output_type": "stream",
     "text": [
      "POLYGON Z ((-86.622742 -74.908126 0, -86.561712 -74.870913 0, -86.868859 -74.73052199999999 0, -86.96290500000001 -74.60503799999999 0, -89.02594000000001 -74.316754 0, -89.630517 -74.19214700000001 0, -89.830808 -74.06591899999999 0, -90.746478 -73.95625800000001 0, -91.66821400000001 -74.023169 0, -92.049815 -73.92938700000001 0, -93.42079099999999 -73.929327 0, -93.997163 -73.882768 0, -94.27770099999999 -73.71418300000001 0, -95.133017 -73.96635499999999 0, -96.51350100000001 -74.127404 0, -99.889802 -74.085347 0, -100.114438 -74.01942200000001 0, -100.355131 -74.080906 0, -100.462734 -74.240864 0, -100.827076 -74.373988 0, -101.795349 -74.369597 0, -102.424826 -74.497263 0, -101.188725 -74.7179 0, -101.564382 -75.02970999999999 0, -103.37484 -75.273725 0, -103.914847 -75.426057 0, -104.012128 -75.5223 0, -103.029452 -75.748774 0, -102.350567 -75.749245 0, -101.837882 -75.943066 0, -101.899461 -76.01408600000001 0, -101.280944 -76.192769 0, -101.325735 -76.246168 0, -101.190803 -76.27106000000001 0, -101.250474 -76.342292 0, -101.175067 -76.345822 0, -101.402436 -76.52034999999999 0, -101.326063 -76.523929 0, -101.449791 -76.666392 0, -101.310795 -76.691373 0, -101.357407 -76.74481900000001 0, -101.217404 -76.769752 0, -101.295133 -76.85887 0, -101.058051 -76.96212300000001 0, -100.447336 -77.11768600000001 0, -98.43369800000001 -77.320866 0, -97.28308 -77.355688 0, -97.491148 -77.42317799999999 0, -96.514174 -77.485919 0, -96.552494 -77.55823599999999 0, -96.38465600000001 -77.562336 0, -96.44151599999999 -77.670857 0, -97.139363 -77.836566 0, -97.193451 -77.926901 0, -97.64270999999999 -78.080044 0, -96.29786900000001 -78.388943 0, -96.327803 -78.44329 0, -95.72146600000001 -78.511065 0, -95.74896200000001 -78.565482 0, -94.940425 -78.61707199999999 0, -94.98861100000001 -78.726066 0, -94.911669 -78.763976 0, -95.609268 -78.843079 0, -95.637038 -78.897535 0, -95.37191 -78.9391 0, -95.69340800000001 -79.006456 0, -95.269903 -79.124145 0, -95.323729 -79.233172 0, -95.430206 -79.249633 0, -95.15550500000001 -79.291032 0, -95.191045 -79.363748 0, -94.81352 -79.406486 0, -94.847075 -79.479253 0, -94.74744800000001 -79.48078 0, -94.772403 -79.53536699999999 0, -93.90411 -79.63884400000001 0, -93.84365099999999 -79.749409 0, -93.96732299999999 -79.802836 0, -93.788723 -79.87821 0, -93.81639300000001 -79.951128 0, -93.230546 -80.085534 0, -91.707475 -79.87748000000001 0, -91.801545 -79.822143 0, -91.48889699999999 -79.805457 0, -91.465152 -79.641131 0, -90.447349 -79.5894 0, -90.545492 -79.534464 0, -90.04231900000001 -79.37062 0, -90.140775 -79.33408300000001 0, -90.041814 -79.24285 0, -88.982186 -79.076903 0, -90.230262 -78.914333 0, -90.32191 -78.80480799999999 0, -90.689626 -78.67651600000001 0, -91.150024 -78.638589 0, -92.035347 -78.414844 0, -92.106013 -78.30491000000001 0, -91.651645 -78.271472 0, -91.365784 -78.127206 0, -91.188783 -78.128018 0, -91.09016699999999 -78.019109 0, -90.737076 -77.98384900000001 0, -90.90919100000001 -77.946905 0, -90.732603 -77.91100900000001 0, -90.72708799999999 -77.819973 0, -91.070502 -77.80062599999999 0, -91.14118000000001 -77.63646900000001 0, -91.90279 -77.613923 0, -91.984627 -77.595116 0, -91.97296299999999 -77.52236499999999 0, -92.466819 -77.463587 0, -92.199521 -77.374914 0, -92.352136 -77.30076099999999 0, -92.335283 -77.209895 0, -91.434206 -77.23465299999999 0, -91.42601500000001 -77.16193 0, -91.015545 -77.145686 0, -91.00835499999999 -77.054784 0, -91.08639700000001 -77.018096 0, -91.647835 -76.97871000000001 0, -91.640906 -76.924199 0, -91.873848 -76.86802400000001 0, -91.779021 -76.759619 0, -90.823937 -76.71007299999999 0, -90.345113 -76.52952999999999 0, -86.988029 -75.856983 0, -86.94556300000001 -75.71114300000001 0, -86.87223400000001 -75.710165 0, -87.034102 -75.63967 0, -86.96500399999999 -75.620616 0, -87.075115 -75.440545 0, -87.00315399999999 -75.439609 0, -87.021872 -75.349129 0, -86.835058 -75.21958600000001 0, -86.85065400000001 -75.14724699999999 0, -86.71772900000001 -75.10905200000001 0, -86.737771 -75.01866200000001 0, -86.602149 -74.99848299999999 0, -86.622742 -74.908126 0))\n"
     ]
    }
   ],
   "source": [
    "#Integer position based indexing of GeoDataFrame object to get it into a shapeply geometry object.\n",
    "poly = gdf.iloc[0].geometry\n",
    "\n",
    "# Simplify polygon. The larger the tolerance value, the more simplified the polygon.\n",
    "poly = poly.simplify(0.05, preserve_topology=False)\n",
    "\n",
    "# Orient counter-clockwise\n",
    "poly = orient(poly, sign=1.0)\n",
    "\n",
    "print(poly)\n",
    "\n",
    "#Format dictionary to polygon coordinate pairs for CMR polygon filtering\n",
    "polygon = ','.join([str(c) for xy in zip(*poly.exterior.coords.xy) for c in xy])\n",
    "\n",
    "# aoi value used for subsetting logic below\n",
    "aoi = '3'"
   ]
  },
  {
   "cell_type": "markdown",
   "metadata": {},
   "source": [
    "Now our coordinate pairs are ready for CMR:"
   ]
  },
  {
   "cell_type": "code",
   "execution_count": 13,
   "metadata": {},
   "outputs": [
    {
     "name": "stdout",
     "output_type": "stream",
     "text": [
      "-86.622742,-74.908126,-86.561712,-74.870913,-86.868859,-74.730522,-86.962905,-74.605038,-89.02594,-74.316754,-89.630517,-74.192147,-89.830808,-74.065919,-90.746478,-73.956258,-91.668214,-74.023169,-92.049815,-73.929387,-93.420791,-73.929327,-93.997163,-73.882768,-94.277701,-73.714183,-95.133017,-73.966355,-96.513501,-74.127404,-99.889802,-74.085347,-100.114438,-74.019422,-100.355131,-74.080906,-100.462734,-74.240864,-100.827076,-74.373988,-101.795349,-74.369597,-102.424826,-74.497263,-101.188725,-74.7179,-101.564382,-75.02971,-103.37484,-75.273725,-103.914847,-75.426057,-104.012128,-75.5223,-103.029452,-75.748774,-102.350567,-75.749245,-101.837882,-75.943066,-101.899461,-76.014086,-101.280944,-76.192769,-101.325735,-76.246168,-101.190803,-76.27106,-101.250474,-76.342292,-101.175067,-76.345822,-101.402436,-76.52035,-101.326063,-76.523929,-101.449791,-76.666392,-101.310795,-76.691373,-101.357407,-76.744819,-101.217404,-76.769752,-101.295133,-76.85887,-101.058051,-76.962123,-100.447336,-77.117686,-98.433698,-77.320866,-97.28308,-77.355688,-97.491148,-77.423178,-96.514174,-77.485919,-96.552494,-77.558236,-96.384656,-77.562336,-96.441516,-77.670857,-97.139363,-77.836566,-97.193451,-77.926901,-97.64271,-78.080044,-96.297869,-78.388943,-96.327803,-78.44329,-95.721466,-78.511065,-95.748962,-78.565482,-94.940425,-78.617072,-94.988611,-78.726066,-94.911669,-78.763976,-95.609268,-78.843079,-95.637038,-78.897535,-95.37191,-78.9391,-95.693408,-79.006456,-95.269903,-79.124145,-95.323729,-79.233172,-95.430206,-79.249633,-95.155505,-79.291032,-95.191045,-79.363748,-94.81352,-79.406486,-94.847075,-79.479253,-94.747448,-79.48078,-94.772403,-79.535367,-93.90411,-79.638844,-93.843651,-79.749409,-93.967323,-79.802836,-93.788723,-79.87821,-93.816393,-79.951128,-93.230546,-80.085534,-91.707475,-79.87748,-91.801545,-79.822143,-91.488897,-79.805457,-91.465152,-79.641131,-90.447349,-79.5894,-90.545492,-79.534464,-90.042319,-79.37062,-90.140775,-79.334083,-90.041814,-79.24285,-88.982186,-79.076903,-90.230262,-78.914333,-90.32191,-78.804808,-90.689626,-78.676516,-91.150024,-78.638589,-92.035347,-78.414844,-92.106013,-78.30491,-91.651645,-78.271472,-91.365784,-78.127206,-91.188783,-78.128018,-91.090167,-78.019109,-90.737076,-77.983849,-90.909191,-77.946905,-90.732603,-77.911009,-90.727088,-77.819973,-91.070502,-77.800626,-91.14118,-77.636469,-91.90279,-77.613923,-91.984627,-77.595116,-91.972963,-77.522365,-92.466819,-77.463587,-92.199521,-77.374914,-92.352136,-77.300761,-92.335283,-77.209895,-91.434206,-77.234653,-91.426015,-77.16193,-91.015545,-77.145686,-91.008355,-77.054784,-91.086397,-77.018096,-91.647835,-76.97871,-91.640906,-76.924199,-91.873848,-76.868024,-91.779021,-76.759619,-90.823937,-76.710073,-90.345113,-76.52953,-86.988029,-75.856983,-86.945563,-75.711143,-86.872234,-75.710165,-87.034102,-75.63967,-86.965004,-75.620616,-87.075115,-75.440545,-87.003154,-75.439609,-87.021872,-75.349129,-86.835058,-75.219586,-86.850654,-75.147247,-86.717729,-75.109052,-86.737771,-75.018662,-86.602149,-74.998483,-86.622742,-74.908126\n"
     ]
    }
   ],
   "source": [
    "print(polygon)"
   ]
  },
  {
   "cell_type": "markdown",
   "metadata": {},
   "source": [
    "The following cell provides an alternative option to post a file to OGR service for spatial file input conversion to CMR polygon format:"
   ]
  },
  {
   "cell_type": "code",
   "execution_count": 14,
   "metadata": {},
   "outputs": [],
   "source": [
    "# # Alternative option for spatial file input: Post file to OGR service\n",
    "# # Spatial file input, including Esri Shapefile or KML/KMZ\n",
    "    \n",
    "# # POST shapefile or KML polygon to OGR for geojson conversion\n",
    "# url = 'http://ogre.adc4gis.com/convert'\n",
    "# shapefile = str(os.getcwd()) + '/pine_island_glims/glims_polygons.kml'\n",
    "# files = {'upload': open(shapefile, 'rb')}\n",
    "# r = requests.post(url, files=files)\n",
    "# results = json.loads(r.content)\n",
    "# # Results is a dictionary representing a feature collection. List coordinates from the Polygon feature:\n",
    "# polygon_list = list(results['features'][0]['geometry']['coordinates'][0])     \n",
    "# # Remove z value from polygon list\n",
    "# for i in range(len(polygon_list)):\n",
    "#     del polygon_list[i][2] \n",
    "# # Create shapely Polygon object for simplification and counter-clockwise ordering for CMR filtering\n",
    "# poly = Polygon(tuple(polygon_list))\n",
    "\n",
    "# #Same simplify and orient steps as above:\n",
    "# #simplify polygon\n",
    "# poly = poly.simplify(0.05, preserve_topology=False)\n",
    "\n",
    "# # Orient counter-clockwise\n",
    "# poly = orient(poly, sign=1.0)\n",
    "\n",
    "# #Format dictionary to polygon coordinate pairs for CMR polygon filtering\n",
    "# # Polygon points need to be provided in counter-clockwise order as comma separated values in longitude latitude order, i.e. lon1, lat1, lon2, lat2, lon3, lat3, and so on. \n",
    "# # The last point should match the first point to close the polygon. \n",
    "# polygon = ','.join([str(c) for xy in zip(*poly.exterior.coords.xy) for c in xy])\n",
    "\n",
    "# # aoi value used for subsetting logic below\n",
    "# aoi = '3'"
   ]
  },
  {
   "cell_type": "markdown",
   "metadata": {},
   "source": [
    "#### We will now populate dictionaries to be applied to our search query below based on spatial and temporal inputs. For additional search parameters, see the [The Common Metadata Repository API documentation](https://cmr.earthdata.nasa.gov/search/site/docs/search/api.html \"CMR API documentation\").\n"
   ]
  },
  {
   "cell_type": "code",
   "execution_count": 15,
   "metadata": {},
   "outputs": [
    {
     "name": "stdout",
     "output_type": "stream",
     "text": [
      "CMR search parameters:  {'short_name': 'ATL06', 'version': '001', 'temporal': '2019-02-22T00:00:00Z,2019-02-22T23:59:59Z', 'page_size': 100, 'page_num': 1, 'polygon': '-86.622742,-74.908126,-86.561712,-74.870913,-86.868859,-74.730522,-86.962905,-74.605038,-89.02594,-74.316754,-89.630517,-74.192147,-89.830808,-74.065919,-90.746478,-73.956258,-91.668214,-74.023169,-92.049815,-73.929387,-93.420791,-73.929327,-93.997163,-73.882768,-94.277701,-73.714183,-95.133017,-73.966355,-96.513501,-74.127404,-99.889802,-74.085347,-100.114438,-74.019422,-100.355131,-74.080906,-100.462734,-74.240864,-100.827076,-74.373988,-101.795349,-74.369597,-102.424826,-74.497263,-101.188725,-74.7179,-101.564382,-75.02971,-103.37484,-75.273725,-103.914847,-75.426057,-104.012128,-75.5223,-103.029452,-75.748774,-102.350567,-75.749245,-101.837882,-75.943066,-101.899461,-76.014086,-101.280944,-76.192769,-101.325735,-76.246168,-101.190803,-76.27106,-101.250474,-76.342292,-101.175067,-76.345822,-101.402436,-76.52035,-101.326063,-76.523929,-101.449791,-76.666392,-101.310795,-76.691373,-101.357407,-76.744819,-101.217404,-76.769752,-101.295133,-76.85887,-101.058051,-76.962123,-100.447336,-77.117686,-98.433698,-77.320866,-97.28308,-77.355688,-97.491148,-77.423178,-96.514174,-77.485919,-96.552494,-77.558236,-96.384656,-77.562336,-96.441516,-77.670857,-97.139363,-77.836566,-97.193451,-77.926901,-97.64271,-78.080044,-96.297869,-78.388943,-96.327803,-78.44329,-95.721466,-78.511065,-95.748962,-78.565482,-94.940425,-78.617072,-94.988611,-78.726066,-94.911669,-78.763976,-95.609268,-78.843079,-95.637038,-78.897535,-95.37191,-78.9391,-95.693408,-79.006456,-95.269903,-79.124145,-95.323729,-79.233172,-95.430206,-79.249633,-95.155505,-79.291032,-95.191045,-79.363748,-94.81352,-79.406486,-94.847075,-79.479253,-94.747448,-79.48078,-94.772403,-79.535367,-93.90411,-79.638844,-93.843651,-79.749409,-93.967323,-79.802836,-93.788723,-79.87821,-93.816393,-79.951128,-93.230546,-80.085534,-91.707475,-79.87748,-91.801545,-79.822143,-91.488897,-79.805457,-91.465152,-79.641131,-90.447349,-79.5894,-90.545492,-79.534464,-90.042319,-79.37062,-90.140775,-79.334083,-90.041814,-79.24285,-88.982186,-79.076903,-90.230262,-78.914333,-90.32191,-78.804808,-90.689626,-78.676516,-91.150024,-78.638589,-92.035347,-78.414844,-92.106013,-78.30491,-91.651645,-78.271472,-91.365784,-78.127206,-91.188783,-78.128018,-91.090167,-78.019109,-90.737076,-77.983849,-90.909191,-77.946905,-90.732603,-77.911009,-90.727088,-77.819973,-91.070502,-77.800626,-91.14118,-77.636469,-91.90279,-77.613923,-91.984627,-77.595116,-91.972963,-77.522365,-92.466819,-77.463587,-92.199521,-77.374914,-92.352136,-77.300761,-92.335283,-77.209895,-91.434206,-77.234653,-91.426015,-77.16193,-91.015545,-77.145686,-91.008355,-77.054784,-91.086397,-77.018096,-91.647835,-76.97871,-91.640906,-76.924199,-91.873848,-76.868024,-91.779021,-76.759619,-90.823937,-76.710073,-90.345113,-76.52953,-86.988029,-75.856983,-86.945563,-75.711143,-86.872234,-75.710165,-87.034102,-75.63967,-86.965004,-75.620616,-87.075115,-75.440545,-87.003154,-75.439609,-87.021872,-75.349129,-86.835058,-75.219586,-86.850654,-75.147247,-86.717729,-75.109052,-86.737771,-75.018662,-86.602149,-74.998483,-86.622742,-74.908126'}\n"
     ]
    }
   ],
   "source": [
    "#Create CMR parameters used for granule search. Modify params depending on bounding_box or polygon input.\n",
    "\n",
    "if aoi == '1':\n",
    "# bounding box input:\n",
    "    params = {\n",
    "    'short_name': short_name,\n",
    "    'version': latest_version,\n",
    "    'temporal': temporal,\n",
    "    'page_size': 100,\n",
    "    'page_num': 1,\n",
    "    'bounding_box': bounding_box\n",
    "    }\n",
    "else:\n",
    "    \n",
    "# If polygon input (either via coordinate pairs or shapefile/KML/KMZ):\n",
    "    params = {\n",
    "    'short_name': short_name,\n",
    "    'version': latest_version,\n",
    "    'temporal': temporal,\n",
    "    'page_size': 100,\n",
    "    'page_num': 1,\n",
    "    'polygon': polygon,\n",
    "    }\n",
    "\n",
    "print('CMR search parameters: ', params)"
   ]
  },
  {
   "cell_type": "markdown",
   "metadata": {},
   "source": [
    "#### Input the parameter dictionary to the CMR granule search to query all files (granules) that meet the criteria based on the granule metadata. Print the number of granules returned."
   ]
  },
  {
   "cell_type": "code",
   "execution_count": 16,
   "metadata": {},
   "outputs": [
    {
     "data": {
      "text/plain": [
       "4"
      ]
     },
     "execution_count": 16,
     "metadata": {},
     "output_type": "execute_result"
    }
   ],
   "source": [
    "# Query number of granules using our (paging over results)\n",
    "\n",
    "granule_search_url = 'https://cmr.earthdata.nasa.gov/search/granules'\n",
    "\n",
    "granules = []\n",
    "while True:\n",
    "    response = requests.get(granule_search_url, params=params, headers=headers)\n",
    "    results = json.loads(response.content)\n",
    "\n",
    "    if len(results['feed']['entry']) == 0:\n",
    "        # Out of results, so break out of loop\n",
    "        break\n",
    "\n",
    "    # Collect results and increment page_num\n",
    "    granules.extend(results['feed']['entry'])\n",
    "    params['page_num'] += 1\n",
    "\n",
    "    \n",
    "# Get number of granules over my area and time of interest\n",
    "len(granules)\n"
   ]
  },
  {
   "cell_type": "markdown",
   "metadata": {},
   "source": [
    "#### We can view this in the [NASA Earthdata Search web interface](https://search.earthdata.nasa.gov/search/granules?polygon=-86.625%2C-74.900390625%2C-87.029296875%2C-74.6015625%2C-90.298828125%2C-74.021484375%2C-93.427734375%2C-73.93359375%2C-94.359375%2C-73.74023437500001%2C-96.767578125%2C-74.126953125%2C-100.107421875%2C-74.021484375%2C-100.828125%2C-74.37304687500001%2C-102.427734375%2C-74.49609375%2C-101.25%2C-74.70703125%2C-101.548828125%2C-75.02343750000001%2C-104.009765625%2C-75.515625%2C-102.357421875%2C-75.744140625%2C-101.28515625%2C-76.201171875%2C-101.197265625%2C-76.271484375%2C-101.443359375%2C-76.658203125%2C-101.03906250000001%2C-76.93945312500001%2C-96.521484375%2C-77.484375%2C-96.43359375%2C-77.677734375%2C-97.611328125%2C-78.029296875%2C-95.02734375%2C-78.591796875%2C-94.9921875%2C-78.732421875%2C-95.677734375%2C-78.99609375%2C-95.27343750000001%2C-79.119140625%2C-95.431640625%2C-79.2421875%2C-93.990234375%2C-79.611328125%2C-93.884765625%2C-79.875%2C-93.234375%2C-80.0859375%2C-91.705078125%2C-79.875%2C-91.810546875%2C-79.857421875%2C-91.494140625%2C-79.8046875%2C-91.458984375%2C-79.646484375%2C-90.43945312500001%2C-79.59375%2C-90.544921875%2C-79.55859375%2C-90.03515625%2C-79.2421875%2C-88.98046875%2C-79.083984375%2C-92.03906250000001%2C-78.416015625%2C-92.109375%2C-78.310546875%2C-90.73828125%2C-77.90625000000001%2C-92.390625%2C-77.501953125%2C-92.197265625%2C-77.37890625%2C-92.337890625%2C-77.203125%2C-91.01953125%2C-77.150390625%2C-91.880859375%2C-76.869140625%2C-87.064453125%2C-75.884765625%2C-86.87109375%2C-75.708984375%2C-87.08203125%2C-75.4453125%2C-86.607421875%2C-75.005859375%2C-86.625%2C-74.900390625&p=C1511847675-NSIDC_ECS!C1511847675-NSIDC_ECS&pg[1][v]=t&m=-74.09615279797836!-130.36684058200473!1!2!0!0%2C2&qt=2019-02-22T00%3A00%3A00.000Z%2C2019-02-22T23%3A59%3A59.000Z&q=atl06&ok=atl06&sf=5633090487), which relies on the same metadata, although their simplified polygon may differ slightly. With the same search criteria applied, we can view the same 4 granules of ATL06 over the glacier.\n"
   ]
  },
  {
   "cell_type": "markdown",
   "metadata": {},
   "source": [
    "#### Now query the average size of those granules: "
   ]
  },
  {
   "cell_type": "code",
   "execution_count": 17,
   "metadata": {},
   "outputs": [
    {
     "data": {
      "text/plain": [
       "59.2271811962"
      ]
     },
     "execution_count": 17,
     "metadata": {},
     "output_type": "execute_result"
    }
   ],
   "source": [
    "granule_sizes = [float(granule['granule_size']) for granule in granules]\n",
    "\n",
    "# Average size of granules in MB\n",
    "mean(granule_sizes)"
   ]
  },
  {
   "cell_type": "markdown",
   "metadata": {},
   "source": [
    "#### As well as the total volume:"
   ]
  },
  {
   "cell_type": "code",
   "execution_count": 18,
   "metadata": {},
   "outputs": [
    {
     "data": {
      "text/plain": [
       "236.9087247848"
      ]
     },
     "execution_count": 18,
     "metadata": {},
     "output_type": "execute_result"
    }
   ],
   "source": [
    "# Total volume in MB\n",
    "sum(granule_sizes)"
   ]
  },
  {
   "cell_type": "markdown",
   "metadata": {},
   "source": [
    "#### Although subsetting, reformatting, or reprojecting can alter the size of the granules, this \"native\" granule size can still be used to guide us towards the best download method to pursue, which we will come back to later on in this tutorial."
   ]
  },
  {
   "cell_type": "markdown",
   "metadata": {},
   "source": [
    "## Select the subsetting and reformatting services enabled for your data set of interest."
   ]
  },
  {
   "cell_type": "markdown",
   "metadata": {},
   "source": [
    "The NSIDC DAAC supports customization services on many of our NASA Earthdata mission collections. Reformatting and subsetting are available on all Level-2 and -3 ICESat-2 data sets. Let's discover the specific service options supported for this data set and select which of these services we want to request. \n",
    "\n",
    "We will start by querying the service capability to gather and select customization options."
   ]
  },
  {
   "cell_type": "code",
   "execution_count": 19,
   "metadata": {},
   "outputs": [
    {
     "name": "stdout",
     "output_type": "stream",
     "text": [
      "https://n5eil02u.ecs.nsidc.org/egi/capabilities/ATL06.001.xml\n"
     ]
    }
   ],
   "source": [
    "# Query service capability URL \n",
    "\n",
    "from xml.etree import ElementTree as ET\n",
    "\n",
    "capability_url = f'https://n5eil02u.ecs.nsidc.org/egi/capabilities/{short_name}.{latest_version}.xml'\n",
    "\n",
    "print(capability_url)"
   ]
  },
  {
   "cell_type": "markdown",
   "metadata": {},
   "source": [
    "All of NSIDC's service endpoints are behind NASA Earthdata Login. We need to create a session to store cookies and pass Earthdata Login credentials to capabilities url."
   ]
  },
  {
   "cell_type": "code",
   "execution_count": 20,
   "metadata": {},
   "outputs": [],
   "source": [
    "# Create session to store cookie and pass credentials to capabilities url\n",
    "\n",
    "session = requests.session()\n",
    "s = session.get(capability_url)\n",
    "response = session.get(s.url,auth=(uid,pswd))\n",
    "\n",
    "root = ET.fromstring(response.content)"
   ]
  },
  {
   "cell_type": "markdown",
   "metadata": {},
   "source": [
    "From the service capability XML, we can collect lists with each service option to gather service information."
   ]
  },
  {
   "cell_type": "code",
   "execution_count": 21,
   "metadata": {},
   "outputs": [],
   "source": [
    "#collect lists with each service option\n",
    "\n",
    "subagent = [subset_agent.attrib for subset_agent in root.iter('SubsetAgent')]\n",
    "\n",
    "# variable subsetting\n",
    "variables = [SubsetVariable.attrib for SubsetVariable in root.iter('SubsetVariable')]  \n",
    "variables_raw = [variables[i]['value'] for i in range(len(variables))]\n",
    "variables_join = [''.join(('/',v)) if v.startswith('/') == False else v for v in variables_raw] \n",
    "variable_vals = [v.replace(':', '/') for v in variables_join]\n",
    "\n",
    "# reformatting\n",
    "formats = [Format.attrib for Format in root.iter('Format')]\n",
    "format_vals = [formats[i]['value'] for i in range(len(formats))]\n",
    "format_vals.remove('')\n",
    "\n",
    "# reprojection only applicable on ICESat-2 L3B products, yet to be available. \n",
    "\n",
    "# reformatting options that support reprojection\n",
    "normalproj = [Projections.attrib for Projections in root.iter('Projections')]\n",
    "normalproj_vals = []\n",
    "normalproj_vals.append(normalproj[0]['normalProj'])\n",
    "format_proj = normalproj_vals[0].split(',')\n",
    "format_proj.remove('')\n",
    "format_proj.append('No reformatting')\n",
    "\n",
    "#reprojection options\n",
    "projections = [Projection.attrib for Projection in root.iter('Projection')]\n",
    "proj_vals = []\n",
    "for i in range(len(projections)):\n",
    "    if (projections[i]['value']) != 'NO_CHANGE' :\n",
    "        proj_vals.append(projections[i]['value'])\n",
    "        \n",
    "# reformatting options that do not support reprojection\n",
    "no_proj = [i for i in format_vals if i not in format_proj]"
   ]
  },
  {
   "cell_type": "markdown",
   "metadata": {},
   "source": [
    "#### Let's confirm that subset services exist for our data set by reviewing the `subagent` list. If the list contains service information, we know that services are available. If not, we need to set the `agent` API parameter to `NO` to indicate that our request will bypass the subsetter. This will quickly send back the data \"natively\" without any customization applied."
   ]
  },
  {
   "cell_type": "code",
   "execution_count": 22,
   "metadata": {},
   "outputs": [
    {
     "name": "stdout",
     "output_type": "stream",
     "text": [
      "[{'id': 'ICESAT2', 'spatialSubsetting': 'true', 'spatialSubsettingShapefile': 'true', 'temporalSubsetting': 'true', 'type': 'both', 'maxGransSyncRequest': '100', 'maxGransAsyncRequest': '2000'}]\n"
     ]
    }
   ],
   "source": [
    "print(subagent)\n",
    "if len(subagent) < 1 :\n",
    "    agent = 'NO'"
   ]
  },
  {
   "cell_type": "markdown",
   "metadata": {},
   "source": [
    "More information is contained in the subagent list, including the maximum number of granules that we can request per order depending on our configuration. We'll come back to these options below."
   ]
  },
  {
   "cell_type": "markdown",
   "metadata": {},
   "source": [
    "### We'll begin populating the subsetting and reformatting parameters used for our NSIDC API request. In addition to the CMR information we queried above, the NSIDC API accepts Key-Value-Pairs (KVPs) for subsetting and reformatting services."
   ]
  },
  {
   "cell_type": "markdown",
   "metadata": {},
   "source": [
    "#### Let's start with spatial subsetting. Recall that there are three options to *filter* our search results by spatial constraint: \n",
    "\n",
    "1) Bounding Box: Corresponding to the CMR `bounding_box` KVP\n",
    "\n",
    "2) Polygon coordinate pairs: Corresponding to the CMR `polygon` KVP\n",
    "\n",
    "3) Spatial file input, including Esri Shapefile or KML/KMZ: We simplified the file input to also be read by the CMR `polygon` KVP \n",
    "    \n",
    "#### We see above that `spatialSubsetting` is `true` and `spatialSubsettingShapefile` is `true`. Therefore the same *filtering* options can be applied to our *subset* constraint, with unique KVPs for the subsetting service:\n",
    "\n",
    "1) Bounding Box: `bbox` subset KVP\n",
    "\n",
    "2) Polygon coordinate pairs: `bounding_shape` subset KVP in [GeoJSON](https://geojson.org/) format. \n",
    "\n",
    "3) Spatial file input: The file can be read directly by the subsetter without simplification. This file will be posted to the API endpoint, so we don't need to specify an additional subset KVP here. "
   ]
  },
  {
   "cell_type": "markdown",
   "metadata": {},
   "source": [
    "#### Because we're pursuing option 3), we don't need to provide an additional subset parameter. Below is commented code for bounding box inputs."
   ]
  },
  {
   "cell_type": "code",
   "execution_count": 23,
   "metadata": {},
   "outputs": [],
   "source": [
    "# Bounding box subsetting (bbox) in same format as bounding_box\n",
    "\n",
    "# bbox = bounding_box\n",
    "\n",
    "# Polygon coordinate pair subsetting in GeoJSON format. Or for simplicity, get polygon bounds to be used as bounding box input\n",
    "\n",
    "# # Create shapely Polygon object from x y list\n",
    "# p = Polygon(tuple(xylist))\n",
    "# # Extract the point values that define the perimeter of the polygon\n",
    "# bounds = p.bounds\n",
    "# bbox = ','.join(map(str, list(bounds)))"
   ]
  },
  {
   "cell_type": "markdown",
   "metadata": {},
   "source": [
    "#### Temporal subsetting is next, since we saw above that `temporalSubsetting` is `true`. We filtered data over 22 Feb 2019 and we can also subset the data to those dates if desired. \n",
    "\n",
    "The `time` KVP is used to subset temporally. This can be entered in the following formats:\n",
    "\n",
    "`time=yyyy-mm-dd,yyyy-mm-dd`\n",
    "\n",
    "`time=yyy-mm-ddThh:MM:ss,yyy-mm-ddThh:MM:ss` "
   ]
  },
  {
   "cell_type": "code",
   "execution_count": 24,
   "metadata": {},
   "outputs": [
    {
     "name": "stdout",
     "output_type": "stream",
     "text": [
      "2019-02-22T00:00:00,2019-02-22T23:59:59\n"
     ]
    }
   ],
   "source": [
    "# Temporal subsetting KVP\n",
    "\n",
    "timevar = start_date + 'T' + start_time + ',' + end_date + 'T' + end_time\n",
    "print(timevar)"
   ]
  },
  {
   "cell_type": "markdown",
   "metadata": {},
   "source": [
    "#### Next, let's explore the reformatting options available.\n"
   ]
  },
  {
   "cell_type": "code",
   "execution_count": 25,
   "metadata": {},
   "outputs": [
    {
     "name": "stdout",
     "output_type": "stream",
     "text": [
      "['NetCDF-3', 'NetCDF4-CF', 'TABULAR_ASCII', 'Shapefile']\n"
     ]
    }
   ],
   "source": [
    "print(format_vals)"
   ]
  },
  {
   "cell_type": "markdown",
   "metadata": {},
   "source": [
    "These options can be inputted into the API request exactly as printed in the list, with quotes removed, using the `format=` Key-Value-Pair. For example:\n",
    "\n",
    "`format=NetCDF4-CF`\n",
    "\n",
    "We will be exploring the data in its native HDF5 format so we won't pursue this option in this tutorial. The reformatting cell is commented below. "
   ]
  },
  {
   "cell_type": "markdown",
   "metadata": {},
   "source": [
    "#### Reprojection options will be available on the gridded ICESat-2 L3B data sets. Let's confirm that no reprojection options exist:"
   ]
  },
  {
   "cell_type": "code",
   "execution_count": 26,
   "metadata": {},
   "outputs": [
    {
     "name": "stdout",
     "output_type": "stream",
     "text": [
      "[]\n"
     ]
    }
   ],
   "source": [
    "print(proj_vals)"
   ]
  },
  {
   "cell_type": "markdown",
   "metadata": {},
   "source": [
    "#### Finally, let's determine if variable subsetting is available by finding the length of the `variable_vals` list we gathered from the capabilities URL. "
   ]
  },
  {
   "cell_type": "code",
   "execution_count": 27,
   "metadata": {},
   "outputs": [
    {
     "data": {
      "text/plain": [
       "627"
      ]
     },
     "execution_count": 27,
     "metadata": {},
     "output_type": "execute_result"
    }
   ],
   "source": [
    "len(variable_vals)"
   ]
  },
  {
   "cell_type": "markdown",
   "metadata": {},
   "source": [
    "We can view the entire list of variables if desired:"
   ]
  },
  {
   "cell_type": "code",
   "execution_count": 28,
   "metadata": {},
   "outputs": [],
   "source": [
    "# pprint.pprint(variable_vals)"
   ]
  },
  {
   "cell_type": "markdown",
   "metadata": {},
   "source": [
    "And we can enter a list of variables to subset separated by comma using the `coverage` key. All forward slashes need to be included to indicate HDF group hierarchy."
   ]
  },
  {
   "cell_type": "code",
   "execution_count": 29,
   "metadata": {},
   "outputs": [],
   "source": [
    "coverage = '/ancillary_data/atlas_sdp_gps_epoch,\\\n",
    "/gt1l/land_ice_segments/atl06_quality_summary,\\\n",
    "/gt1l/land_ice_segments/delta_time,\\\n",
    "/gt1l/land_ice_segments/h_li,\\\n",
    "/gt1l/land_ice_segments/h_li_sigma,\\\n",
    "/gt1l/land_ice_segments/latitude,\\\n",
    "/gt1l/land_ice_segments/longitude,\\\n",
    "/gt1l/land_ice_segments/segment_id,\\\n",
    "/gt1l/land_ice_segments/sigma_geo_h,\\\n",
    "/gt1r/land_ice_segments/atl06_quality_summary,\\\n",
    "/gt1r/land_ice_segments/delta_time,\\\n",
    "/gt1r/land_ice_segments/h_li,\\\n",
    "/gt1r/land_ice_segments/h_li_sigma,\\\n",
    "/gt1r/land_ice_segments/latitude,\\\n",
    "/gt1r/land_ice_segments/longitude,\\\n",
    "/gt1r/land_ice_segments/segment_id,\\\n",
    "/gt1r/land_ice_segments/sigma_geo_h,\\\n",
    "/gt2l/land_ice_segments/atl06_quality_summary,\\\n",
    "/gt2l/land_ice_segments/delta_time,\\\n",
    "/gt2l/land_ice_segments/h_li,\\\n",
    "/gt2l/land_ice_segments/h_li_sigma,\\\n",
    "/gt2l/land_ice_segments/latitude,\\\n",
    "/gt2l/land_ice_segments/longitude,\\\n",
    "/gt2l/land_ice_segments/segment_id,\\\n",
    "/gt2l/land_ice_segments/sigma_geo_h,\\\n",
    "/gt2r/land_ice_segments/atl06_quality_summary,\\\n",
    "/gt2r/land_ice_segments/delta_time,\\\n",
    "/gt2r/land_ice_segments/h_li,\\\n",
    "/gt2r/land_ice_segments/h_li_sigma,\\\n",
    "/gt2r/land_ice_segments/latitude,\\\n",
    "/gt2r/land_ice_segments/longitude,\\\n",
    "/gt2r/land_ice_segments/segment_id,\\\n",
    "/gt2r/land_ice_segments/sigma_geo_h,\\\n",
    "/gt3l/land_ice_segments/atl06_quality_summary,\\\n",
    "/gt3l/land_ice_segments/delta_time,\\\n",
    "/gt3l/land_ice_segments/h_li,\\\n",
    "/gt3l/land_ice_segments/h_li_sigma,\\\n",
    "/gt3l/land_ice_segments/latitude,\\\n",
    "/gt3l/land_ice_segments/longitude,\\\n",
    "/gt3l/land_ice_segments/segment_id,\\\n",
    "/gt3l/land_ice_segments/sigma_geo_h,\\\n",
    "/gt3r/land_ice_segments/atl06_quality_summary,\\\n",
    "/gt3r/land_ice_segments/delta_time,\\\n",
    "/gt3r/land_ice_segments/h_li,\\\n",
    "/gt3r/land_ice_segments/h_li_sigma,\\\n",
    "/gt3r/land_ice_segments/latitude,\\\n",
    "/gt3r/land_ice_segments/longitude,\\\n",
    "/gt3r/land_ice_segments/segment_id,\\\n",
    "/gt3r/land_ice_segments/sigma_geo_h,\\\n",
    "/orbit_info/cycle_number,\\\n",
    "/orbit_info/rgt,\\\n",
    "/orbit_info/orbit_number' "
   ]
  },
  {
   "cell_type": "markdown",
   "metadata": {},
   "source": [
    "## Request data from the NSIDC data access API."
   ]
  },
  {
   "cell_type": "markdown",
   "metadata": {},
   "source": [
    "#### We will now set up our data download request. The data access and service API (labeled EGI below) incorporates the CMR parameters that we explored above, plus customization service parameters as well as a few configuration parameters.\n",
    "\n",
    "![Data Access Service API diagram](https://gsfc-ngap-developer.s3.amazonaws.com/be03ae4ddbe19c8ea7734df6941385b8baba4741f6c7ec62fd4230eccdc31fc0)\n",
    "\n",
    "#### As described above, the API is structured as a URL with a base plus individual key-value-pairs (KVPs) separated by ‘&’. The base URL of the NSIDC API is: </br>\n",
    "`https://n5eil02u.ecs.nsidc.org/egi/request`\n"
   ]
  },
  {
   "cell_type": "code",
   "execution_count": 30,
   "metadata": {},
   "outputs": [],
   "source": [
    "#Set NSIDC data access base URL\n",
    "base_url = 'https://n5eil02u.ecs.nsidc.org/egi/request'"
   ]
  },
  {
   "cell_type": "markdown",
   "metadata": {},
   "source": [
    "#### Let's go over the configuration parameters:\n",
    "\n",
    "* `request_mode`\n",
    "* `page_size`\n",
    "* `page_num`\n",
    "\n",
    "`request_mode` is \"synchronous\" by default, meaning that the request relies on a direct, continous connection between you and the API endpoint. Outputs are directly downloaded, or \"streamed\" to your working directory. For this tutorial, we will set the request mode to asynchronous, which will allow concurrent requests to be queued and processed without the need for a continuous connection.\n",
    "\n",
    "**Use the synchronous `request_mode` with caution: While it can be beneficial to stream outputs directly to your local directory, note that timeout errors can result depending on the size of the request, and your request will not be queued in the system if NSIDC is experiencing high request volume. For best performance, I recommend setting `page_size=1` to download individual outputs, which will eliminate extra time needed to zip outputs and will ensure faster processing times per request. An example synchronous request loop is commented below. **\n",
    "\n",
    "Recall that we queried the total number and volume of granules prior to applying customization services. `page_size` and `page_num` can be used to adjust the number of granules per request up to a limit of 2000 granules for asynchronous, and 100 granules for synchronous. For now, let's select 10 granules to be processed in each zipped request. For ATL06, the granule size can exceed 100 MB so we want to choose a granule count that provides us with a reasonable zipped download size. "
   ]
  },
  {
   "cell_type": "code",
   "execution_count": 31,
   "metadata": {},
   "outputs": [
    {
     "name": "stdout",
     "output_type": "stream",
     "text": [
      "1\n"
     ]
    }
   ],
   "source": [
    "# Set number of granules requested per order, which we will initially set to 10.\n",
    "page_size = 10\n",
    "\n",
    "#Determine number of pages basd on page_size and total granules. Loop requests by this value\n",
    "page_num = math.ceil(len(granules)/page_size)\n",
    "\n",
    "#Set request mode. \n",
    "request_mode = 'async'\n",
    "# request_mode = 'sync'\n",
    "\n",
    "# Determine how many individual orders we will request based on the number of granules requested\n",
    "\n",
    "print(page_num)"
   ]
  },
  {
   "cell_type": "markdown",
   "metadata": {},
   "source": [
    "#### After all of these KVP inputs, what does our request look like? Here's a summary of all possible KVPs that we explored, both for CMR searching and for the subsetter:\n",
    "\n",
    "#### CMR search keys:\n",
    "* `short_name=`\n",
    "* `version=`\n",
    "* `temporal=`\n",
    "* `bounding_box=`\n",
    "* `polygon=`\n",
    "\n",
    "#### Customization keys:\n",
    "* `agent=`    *(Only used if *no* customization is requested)\n",
    "* `time=`\n",
    "* `bbox=`\n",
    "* `bounding_shape=` \n",
    "* `format=`\n",
    "* `projection=`\n",
    "* `projection_parameters=`\n",
    "* `Coverage=`\n",
    "\n",
    "#### Request configuration keys:\n",
    "* `request_mode=` \n",
    "* `page_size=`\n",
    "* `page_num=`\n",
    "* `token=`\n",
    "* `email=`"
   ]
  },
  {
   "cell_type": "markdown",
   "metadata": {},
   "source": [
    "#### If we were to create an API request based on our request parameters and submit into a web browser for example, here's what we end up with:"
   ]
  },
  {
   "cell_type": "code",
   "execution_count": 32,
   "metadata": {},
   "outputs": [
    {
     "name": "stdout",
     "output_type": "stream",
     "text": [
      "https://n5eil02u.ecs.nsidc.org/egi/request?short_name=ATL06&version=001&temporal=2019-02-22T00:00:00Z,2019-02-22T23:59:59Z&time=2019-02-22T00:00:00,2019-02-22T23:59:59&polygon=-86.622742,-74.908126,-86.561712,-74.870913,-86.868859,-74.730522,-86.962905,-74.605038,-89.02594,-74.316754,-89.630517,-74.192147,-89.830808,-74.065919,-90.746478,-73.956258,-91.668214,-74.023169,-92.049815,-73.929387,-93.420791,-73.929327,-93.997163,-73.882768,-94.277701,-73.714183,-95.133017,-73.966355,-96.513501,-74.127404,-99.889802,-74.085347,-100.114438,-74.019422,-100.355131,-74.080906,-100.462734,-74.240864,-100.827076,-74.373988,-101.795349,-74.369597,-102.424826,-74.497263,-101.188725,-74.7179,-101.564382,-75.02971,-103.37484,-75.273725,-103.914847,-75.426057,-104.012128,-75.5223,-103.029452,-75.748774,-102.350567,-75.749245,-101.837882,-75.943066,-101.899461,-76.014086,-101.280944,-76.192769,-101.325735,-76.246168,-101.190803,-76.27106,-101.250474,-76.342292,-101.175067,-76.345822,-101.402436,-76.52035,-101.326063,-76.523929,-101.449791,-76.666392,-101.310795,-76.691373,-101.357407,-76.744819,-101.217404,-76.769752,-101.295133,-76.85887,-101.058051,-76.962123,-100.447336,-77.117686,-98.433698,-77.320866,-97.28308,-77.355688,-97.491148,-77.423178,-96.514174,-77.485919,-96.552494,-77.558236,-96.384656,-77.562336,-96.441516,-77.670857,-97.139363,-77.836566,-97.193451,-77.926901,-97.64271,-78.080044,-96.297869,-78.388943,-96.327803,-78.44329,-95.721466,-78.511065,-95.748962,-78.565482,-94.940425,-78.617072,-94.988611,-78.726066,-94.911669,-78.763976,-95.609268,-78.843079,-95.637038,-78.897535,-95.37191,-78.9391,-95.693408,-79.006456,-95.269903,-79.124145,-95.323729,-79.233172,-95.430206,-79.249633,-95.155505,-79.291032,-95.191045,-79.363748,-94.81352,-79.406486,-94.847075,-79.479253,-94.747448,-79.48078,-94.772403,-79.535367,-93.90411,-79.638844,-93.843651,-79.749409,-93.967323,-79.802836,-93.788723,-79.87821,-93.816393,-79.951128,-93.230546,-80.085534,-91.707475,-79.87748,-91.801545,-79.822143,-91.488897,-79.805457,-91.465152,-79.641131,-90.447349,-79.5894,-90.545492,-79.534464,-90.042319,-79.37062,-90.140775,-79.334083,-90.041814,-79.24285,-88.982186,-79.076903,-90.230262,-78.914333,-90.32191,-78.804808,-90.689626,-78.676516,-91.150024,-78.638589,-92.035347,-78.414844,-92.106013,-78.30491,-91.651645,-78.271472,-91.365784,-78.127206,-91.188783,-78.128018,-91.090167,-78.019109,-90.737076,-77.983849,-90.909191,-77.946905,-90.732603,-77.911009,-90.727088,-77.819973,-91.070502,-77.800626,-91.14118,-77.636469,-91.90279,-77.613923,-91.984627,-77.595116,-91.972963,-77.522365,-92.466819,-77.463587,-92.199521,-77.374914,-92.352136,-77.300761,-92.335283,-77.209895,-91.434206,-77.234653,-91.426015,-77.16193,-91.015545,-77.145686,-91.008355,-77.054784,-91.086397,-77.018096,-91.647835,-76.97871,-91.640906,-76.924199,-91.873848,-76.868024,-91.779021,-76.759619,-90.823937,-76.710073,-90.345113,-76.52953,-86.988029,-75.856983,-86.945563,-75.711143,-86.872234,-75.710165,-87.034102,-75.63967,-86.965004,-75.620616,-87.075115,-75.440545,-87.003154,-75.439609,-87.021872,-75.349129,-86.835058,-75.219586,-86.850654,-75.147247,-86.717729,-75.109052,-86.737771,-75.018662,-86.602149,-74.998483,-86.622742,-74.908126&Coverage=/ancillary_data/atlas_sdp_gps_epoch,/gt1l/land_ice_segments/atl06_quality_summary,/gt1l/land_ice_segments/delta_time,/gt1l/land_ice_segments/h_li,/gt1l/land_ice_segments/h_li_sigma,/gt1l/land_ice_segments/latitude,/gt1l/land_ice_segments/longitude,/gt1l/land_ice_segments/segment_id,/gt1l/land_ice_segments/sigma_geo_h,/gt1r/land_ice_segments/atl06_quality_summary,/gt1r/land_ice_segments/delta_time,/gt1r/land_ice_segments/h_li,/gt1r/land_ice_segments/h_li_sigma,/gt1r/land_ice_segments/latitude,/gt1r/land_ice_segments/longitude,/gt1r/land_ice_segments/segment_id,/gt1r/land_ice_segments/sigma_geo_h,/gt2l/land_ice_segments/atl06_quality_summary,/gt2l/land_ice_segments/delta_time,/gt2l/land_ice_segments/h_li,/gt2l/land_ice_segments/h_li_sigma,/gt2l/land_ice_segments/latitude,/gt2l/land_ice_segments/longitude,/gt2l/land_ice_segments/segment_id,/gt2l/land_ice_segments/sigma_geo_h,/gt2r/land_ice_segments/atl06_quality_summary,/gt2r/land_ice_segments/delta_time,/gt2r/land_ice_segments/h_li,/gt2r/land_ice_segments/h_li_sigma,/gt2r/land_ice_segments/latitude,/gt2r/land_ice_segments/longitude,/gt2r/land_ice_segments/segment_id,/gt2r/land_ice_segments/sigma_geo_h,/gt3l/land_ice_segments/atl06_quality_summary,/gt3l/land_ice_segments/delta_time,/gt3l/land_ice_segments/h_li,/gt3l/land_ice_segments/h_li_sigma,/gt3l/land_ice_segments/latitude,/gt3l/land_ice_segments/longitude,/gt3l/land_ice_segments/segment_id,/gt3l/land_ice_segments/sigma_geo_h,/gt3r/land_ice_segments/atl06_quality_summary,/gt3r/land_ice_segments/delta_time,/gt3r/land_ice_segments/h_li,/gt3r/land_ice_segments/h_li_sigma,/gt3r/land_ice_segments/latitude,/gt3r/land_ice_segments/longitude,/gt3r/land_ice_segments/segment_id,/gt3r/land_ice_segments/sigma_geo_h,/orbit_info/cycle_number,/orbit_info/rgt,/orbit_info/orbit_number&request_mode=async&page_size=10&page_num=1&token=94D4B84A-3632-850A-AC97-C94CC2D8C815&email=amy.steiker@nsidc.org\n"
     ]
    }
   ],
   "source": [
    "#Print API base URL + request parameters\n",
    "API_request = f'{base_url}?short_name={short_name}&version={latest_version}&temporal={temporal}&time={timevar}&polygon={polygon}&Coverage={coverage}&request_mode={request_mode}&page_size={page_size}&page_num={page_num}&token={token}&email={email}'\n",
    "print(API_request)\n"
   ]
  },
  {
   "cell_type": "markdown",
   "metadata": {},
   "source": [
    "#### We'll also create a new dictionary of NSIDC API KVPs to be used in our subset request. Because we are looping through each page of requests, we'll add the `page_num` KVP to our dictionary within the loop below."
   ]
  },
  {
   "cell_type": "code",
   "execution_count": 33,
   "metadata": {},
   "outputs": [
    {
     "name": "stdout",
     "output_type": "stream",
     "text": [
      "{'short_name': 'ATL06', 'version': '001', 'temporal': '2019-02-22T00:00:00Z,2019-02-22T23:59:59Z', 'time': '2019-02-22T00:00:00,2019-02-22T23:59:59', 'polygon': '-86.622742,-74.908126,-86.561712,-74.870913,-86.868859,-74.730522,-86.962905,-74.605038,-89.02594,-74.316754,-89.630517,-74.192147,-89.830808,-74.065919,-90.746478,-73.956258,-91.668214,-74.023169,-92.049815,-73.929387,-93.420791,-73.929327,-93.997163,-73.882768,-94.277701,-73.714183,-95.133017,-73.966355,-96.513501,-74.127404,-99.889802,-74.085347,-100.114438,-74.019422,-100.355131,-74.080906,-100.462734,-74.240864,-100.827076,-74.373988,-101.795349,-74.369597,-102.424826,-74.497263,-101.188725,-74.7179,-101.564382,-75.02971,-103.37484,-75.273725,-103.914847,-75.426057,-104.012128,-75.5223,-103.029452,-75.748774,-102.350567,-75.749245,-101.837882,-75.943066,-101.899461,-76.014086,-101.280944,-76.192769,-101.325735,-76.246168,-101.190803,-76.27106,-101.250474,-76.342292,-101.175067,-76.345822,-101.402436,-76.52035,-101.326063,-76.523929,-101.449791,-76.666392,-101.310795,-76.691373,-101.357407,-76.744819,-101.217404,-76.769752,-101.295133,-76.85887,-101.058051,-76.962123,-100.447336,-77.117686,-98.433698,-77.320866,-97.28308,-77.355688,-97.491148,-77.423178,-96.514174,-77.485919,-96.552494,-77.558236,-96.384656,-77.562336,-96.441516,-77.670857,-97.139363,-77.836566,-97.193451,-77.926901,-97.64271,-78.080044,-96.297869,-78.388943,-96.327803,-78.44329,-95.721466,-78.511065,-95.748962,-78.565482,-94.940425,-78.617072,-94.988611,-78.726066,-94.911669,-78.763976,-95.609268,-78.843079,-95.637038,-78.897535,-95.37191,-78.9391,-95.693408,-79.006456,-95.269903,-79.124145,-95.323729,-79.233172,-95.430206,-79.249633,-95.155505,-79.291032,-95.191045,-79.363748,-94.81352,-79.406486,-94.847075,-79.479253,-94.747448,-79.48078,-94.772403,-79.535367,-93.90411,-79.638844,-93.843651,-79.749409,-93.967323,-79.802836,-93.788723,-79.87821,-93.816393,-79.951128,-93.230546,-80.085534,-91.707475,-79.87748,-91.801545,-79.822143,-91.488897,-79.805457,-91.465152,-79.641131,-90.447349,-79.5894,-90.545492,-79.534464,-90.042319,-79.37062,-90.140775,-79.334083,-90.041814,-79.24285,-88.982186,-79.076903,-90.230262,-78.914333,-90.32191,-78.804808,-90.689626,-78.676516,-91.150024,-78.638589,-92.035347,-78.414844,-92.106013,-78.30491,-91.651645,-78.271472,-91.365784,-78.127206,-91.188783,-78.128018,-91.090167,-78.019109,-90.737076,-77.983849,-90.909191,-77.946905,-90.732603,-77.911009,-90.727088,-77.819973,-91.070502,-77.800626,-91.14118,-77.636469,-91.90279,-77.613923,-91.984627,-77.595116,-91.972963,-77.522365,-92.466819,-77.463587,-92.199521,-77.374914,-92.352136,-77.300761,-92.335283,-77.209895,-91.434206,-77.234653,-91.426015,-77.16193,-91.015545,-77.145686,-91.008355,-77.054784,-91.086397,-77.018096,-91.647835,-76.97871,-91.640906,-76.924199,-91.873848,-76.868024,-91.779021,-76.759619,-90.823937,-76.710073,-90.345113,-76.52953,-86.988029,-75.856983,-86.945563,-75.711143,-86.872234,-75.710165,-87.034102,-75.63967,-86.965004,-75.620616,-87.075115,-75.440545,-87.003154,-75.439609,-87.021872,-75.349129,-86.835058,-75.219586,-86.850654,-75.147247,-86.717729,-75.109052,-86.737771,-75.018662,-86.602149,-74.998483,-86.622742,-74.908126', 'Coverage': '/ancillary_data/atlas_sdp_gps_epoch,/gt1l/land_ice_segments/atl06_quality_summary,/gt1l/land_ice_segments/delta_time,/gt1l/land_ice_segments/h_li,/gt1l/land_ice_segments/h_li_sigma,/gt1l/land_ice_segments/latitude,/gt1l/land_ice_segments/longitude,/gt1l/land_ice_segments/segment_id,/gt1l/land_ice_segments/sigma_geo_h,/gt1r/land_ice_segments/atl06_quality_summary,/gt1r/land_ice_segments/delta_time,/gt1r/land_ice_segments/h_li,/gt1r/land_ice_segments/h_li_sigma,/gt1r/land_ice_segments/latitude,/gt1r/land_ice_segments/longitude,/gt1r/land_ice_segments/segment_id,/gt1r/land_ice_segments/sigma_geo_h,/gt2l/land_ice_segments/atl06_quality_summary,/gt2l/land_ice_segments/delta_time,/gt2l/land_ice_segments/h_li,/gt2l/land_ice_segments/h_li_sigma,/gt2l/land_ice_segments/latitude,/gt2l/land_ice_segments/longitude,/gt2l/land_ice_segments/segment_id,/gt2l/land_ice_segments/sigma_geo_h,/gt2r/land_ice_segments/atl06_quality_summary,/gt2r/land_ice_segments/delta_time,/gt2r/land_ice_segments/h_li,/gt2r/land_ice_segments/h_li_sigma,/gt2r/land_ice_segments/latitude,/gt2r/land_ice_segments/longitude,/gt2r/land_ice_segments/segment_id,/gt2r/land_ice_segments/sigma_geo_h,/gt3l/land_ice_segments/atl06_quality_summary,/gt3l/land_ice_segments/delta_time,/gt3l/land_ice_segments/h_li,/gt3l/land_ice_segments/h_li_sigma,/gt3l/land_ice_segments/latitude,/gt3l/land_ice_segments/longitude,/gt3l/land_ice_segments/segment_id,/gt3l/land_ice_segments/sigma_geo_h,/gt3r/land_ice_segments/atl06_quality_summary,/gt3r/land_ice_segments/delta_time,/gt3r/land_ice_segments/h_li,/gt3r/land_ice_segments/h_li_sigma,/gt3r/land_ice_segments/latitude,/gt3r/land_ice_segments/longitude,/gt3r/land_ice_segments/segment_id,/gt3r/land_ice_segments/sigma_geo_h,/orbit_info/cycle_number,/orbit_info/rgt,/orbit_info/orbit_number', 'request_mode': 'async', 'page_size': 10, 'token': '94D4B84A-3632-850A-AC97-C94CC2D8C815', 'email': 'amy.steiker@nsidc.org'}\n"
     ]
    }
   ],
   "source": [
    "subset_params = {\n",
    "    'short_name': short_name, \n",
    "    'version': latest_version, \n",
    "    'temporal': temporal, \n",
    "    'time': timevar, \n",
    "    'polygon': polygon, \n",
    "    'Coverage': coverage, \n",
    "    'request_mode': request_mode, \n",
    "    'page_size': page_size,  \n",
    "    'token': token, \n",
    "    'email': email, \n",
    "    }\n",
    "print(subset_params)"
   ]
  },
  {
   "cell_type": "markdown",
   "metadata": {},
   "source": [
    "#### We'll request the same data but without any subsetting services applied. Let's create another request parameter dictionary with the `time` and `coverage` service keys removed, and we'll add `agent=NO` instead."
   ]
  },
  {
   "cell_type": "code",
   "execution_count": 34,
   "metadata": {},
   "outputs": [
    {
     "name": "stdout",
     "output_type": "stream",
     "text": [
      "{'short_name': 'ATL06', 'version': '001', 'temporal': '2019-02-22T00:00:00Z,2019-02-22T23:59:59Z', 'polygon': '-86.622742,-74.908126,-86.561712,-74.870913,-86.868859,-74.730522,-86.962905,-74.605038,-89.02594,-74.316754,-89.630517,-74.192147,-89.830808,-74.065919,-90.746478,-73.956258,-91.668214,-74.023169,-92.049815,-73.929387,-93.420791,-73.929327,-93.997163,-73.882768,-94.277701,-73.714183,-95.133017,-73.966355,-96.513501,-74.127404,-99.889802,-74.085347,-100.114438,-74.019422,-100.355131,-74.080906,-100.462734,-74.240864,-100.827076,-74.373988,-101.795349,-74.369597,-102.424826,-74.497263,-101.188725,-74.7179,-101.564382,-75.02971,-103.37484,-75.273725,-103.914847,-75.426057,-104.012128,-75.5223,-103.029452,-75.748774,-102.350567,-75.749245,-101.837882,-75.943066,-101.899461,-76.014086,-101.280944,-76.192769,-101.325735,-76.246168,-101.190803,-76.27106,-101.250474,-76.342292,-101.175067,-76.345822,-101.402436,-76.52035,-101.326063,-76.523929,-101.449791,-76.666392,-101.310795,-76.691373,-101.357407,-76.744819,-101.217404,-76.769752,-101.295133,-76.85887,-101.058051,-76.962123,-100.447336,-77.117686,-98.433698,-77.320866,-97.28308,-77.355688,-97.491148,-77.423178,-96.514174,-77.485919,-96.552494,-77.558236,-96.384656,-77.562336,-96.441516,-77.670857,-97.139363,-77.836566,-97.193451,-77.926901,-97.64271,-78.080044,-96.297869,-78.388943,-96.327803,-78.44329,-95.721466,-78.511065,-95.748962,-78.565482,-94.940425,-78.617072,-94.988611,-78.726066,-94.911669,-78.763976,-95.609268,-78.843079,-95.637038,-78.897535,-95.37191,-78.9391,-95.693408,-79.006456,-95.269903,-79.124145,-95.323729,-79.233172,-95.430206,-79.249633,-95.155505,-79.291032,-95.191045,-79.363748,-94.81352,-79.406486,-94.847075,-79.479253,-94.747448,-79.48078,-94.772403,-79.535367,-93.90411,-79.638844,-93.843651,-79.749409,-93.967323,-79.802836,-93.788723,-79.87821,-93.816393,-79.951128,-93.230546,-80.085534,-91.707475,-79.87748,-91.801545,-79.822143,-91.488897,-79.805457,-91.465152,-79.641131,-90.447349,-79.5894,-90.545492,-79.534464,-90.042319,-79.37062,-90.140775,-79.334083,-90.041814,-79.24285,-88.982186,-79.076903,-90.230262,-78.914333,-90.32191,-78.804808,-90.689626,-78.676516,-91.150024,-78.638589,-92.035347,-78.414844,-92.106013,-78.30491,-91.651645,-78.271472,-91.365784,-78.127206,-91.188783,-78.128018,-91.090167,-78.019109,-90.737076,-77.983849,-90.909191,-77.946905,-90.732603,-77.911009,-90.727088,-77.819973,-91.070502,-77.800626,-91.14118,-77.636469,-91.90279,-77.613923,-91.984627,-77.595116,-91.972963,-77.522365,-92.466819,-77.463587,-92.199521,-77.374914,-92.352136,-77.300761,-92.335283,-77.209895,-91.434206,-77.234653,-91.426015,-77.16193,-91.015545,-77.145686,-91.008355,-77.054784,-91.086397,-77.018096,-91.647835,-76.97871,-91.640906,-76.924199,-91.873848,-76.868024,-91.779021,-76.759619,-90.823937,-76.710073,-90.345113,-76.52953,-86.988029,-75.856983,-86.945563,-75.711143,-86.872234,-75.710165,-87.034102,-75.63967,-86.965004,-75.620616,-87.075115,-75.440545,-87.003154,-75.439609,-87.021872,-75.349129,-86.835058,-75.219586,-86.850654,-75.147247,-86.717729,-75.109052,-86.737771,-75.018662,-86.602149,-74.998483,-86.622742,-74.908126', 'agent': 'NO', 'request_mode': 'async', 'page_size': 10, 'token': '94D4B84A-3632-850A-AC97-C94CC2D8C815', 'email': 'amy.steiker@nsidc.org'}\n"
     ]
    }
   ],
   "source": [
    "request_params = {\n",
    "    'short_name': short_name, \n",
    "    'version': latest_version, \n",
    "    'temporal': temporal, \n",
    "    'polygon': polygon, \n",
    "    'agent' : 'NO',\n",
    "    'request_mode': request_mode, \n",
    "    'page_size': page_size,  \n",
    "    'token': token, \n",
    "    'email': email, \n",
    "    }\n",
    "\n",
    "print(request_params)"
   ]
  },
  {
   "cell_type": "markdown",
   "metadata": {},
   "source": [
    "### Before we request the data and download the outputs, let's explore some simple comparisons of the data from s3 that we've already requested."
   ]
  },
  {
   "cell_type": "code",
   "execution_count": 35,
   "metadata": {},
   "outputs": [],
   "source": [
    "# Define paths for output folders\n",
    "\n",
    "opath = '/home/jovyan/data-access/data-access-outputs'\n",
    "sopath = '/home/jovyan/data-access/data-access-subsetted-outputs'\n",
    "\n",
    "# Choose the same native/subsetted file to compare\n",
    "\n",
    "native_file = opath + '/ATL06_20190222031203_08500210_001_01.h5'\n",
    "processed_file = sopath + '/processed_ATL06_20190222031203_08500210_001_01.h5'"
   ]
  },
  {
   "cell_type": "markdown",
   "metadata": {},
   "source": [
    "Compare file sizes:"
   ]
  },
  {
   "cell_type": "code",
   "execution_count": 36,
   "metadata": {},
   "outputs": [
    {
     "data": {
      "text/plain": [
       "21367456"
      ]
     },
     "execution_count": 36,
     "metadata": {},
     "output_type": "execute_result"
    }
   ],
   "source": [
    "os.path.getsize(native_file)"
   ]
  },
  {
   "cell_type": "code",
   "execution_count": 37,
   "metadata": {},
   "outputs": [
    {
     "data": {
      "text/plain": [
       "1242530"
      ]
     },
     "execution_count": 37,
     "metadata": {},
     "output_type": "execute_result"
    }
   ],
   "source": [
    "os.path.getsize(processed_file)"
   ]
  },
  {
   "cell_type": "markdown",
   "metadata": {},
   "source": [
    "Read the files using h5py and compare the HDF5 groups and datasets:"
   ]
  },
  {
   "cell_type": "code",
   "execution_count": 38,
   "metadata": {},
   "outputs": [],
   "source": [
    "# Read files using h5py package\n",
    "\n",
    "native = h5py.File(native_file, 'r')\n",
    "processed = h5py.File(processed_file, 'r')\n"
   ]
  },
  {
   "cell_type": "markdown",
   "metadata": {},
   "source": [
    "Native file groups:"
   ]
  },
  {
   "cell_type": "code",
   "execution_count": 39,
   "metadata": {},
   "outputs": [
    {
     "name": "stdout",
     "output_type": "stream",
     "text": [
      "---\n",
      "Group: METADATA\n",
      "---\n",
      "<HDF5 group \"/METADATA/AcquisitionInformation\" (4 members)>\n",
      "<HDF5 group \"/METADATA/DataQuality\" (2 members)>\n",
      "<HDF5 group \"/METADATA/DatasetIdentification\" (0 members)>\n",
      "<HDF5 group \"/METADATA/Extent\" (0 members)>\n",
      "<HDF5 group \"/METADATA/Lineage\" (13 members)>\n",
      "<HDF5 group \"/METADATA/ProcessStep\" (4 members)>\n",
      "<HDF5 group \"/METADATA/ProductSpecificationDocument\" (0 members)>\n",
      "<HDF5 group \"/METADATA/QADatasetIdentification\" (0 members)>\n",
      "<HDF5 group \"/METADATA/SeriesIdentification\" (0 members)>\n",
      "---\n",
      "Group: ancillary_data\n",
      "---\n",
      "<HDF5 dataset \"atlas_sdp_gps_epoch\": shape (1,), type \"<f8\">\n",
      "<HDF5 dataset \"control\": shape (1,), type \"|S100000\">\n",
      "<HDF5 dataset \"data_end_utc\": shape (1,), type \"|S27\">\n",
      "<HDF5 dataset \"data_start_utc\": shape (1,), type \"|S27\">\n",
      "<HDF5 dataset \"end_cycle\": shape (1,), type \"<i4\">\n",
      "<HDF5 dataset \"end_delta_time\": shape (1,), type \"<f8\">\n",
      "<HDF5 dataset \"end_geoseg\": shape (1,), type \"<i4\">\n",
      "<HDF5 dataset \"end_gpssow\": shape (1,), type \"<f8\">\n",
      "<HDF5 dataset \"end_gpsweek\": shape (1,), type \"<i4\">\n",
      "<HDF5 dataset \"end_orbit\": shape (1,), type \"<i4\">\n",
      "<HDF5 dataset \"end_region\": shape (1,), type \"<i4\">\n",
      "<HDF5 dataset \"end_rgt\": shape (1,), type \"<i4\">\n",
      "<HDF5 dataset \"granule_end_utc\": shape (1,), type \"|S27\">\n",
      "<HDF5 dataset \"granule_start_utc\": shape (1,), type \"|S27\">\n",
      "<HDF5 dataset \"qa_at_interval\": shape (1,), type \"<f8\">\n",
      "<HDF5 dataset \"release\": shape (1,), type \"|S80\">\n",
      "<HDF5 dataset \"start_cycle\": shape (1,), type \"<i4\">\n",
      "<HDF5 dataset \"start_delta_time\": shape (1,), type \"<f8\">\n",
      "<HDF5 dataset \"start_geoseg\": shape (1,), type \"<i4\">\n",
      "<HDF5 dataset \"start_gpssow\": shape (1,), type \"<f8\">\n",
      "<HDF5 dataset \"start_gpsweek\": shape (1,), type \"<i4\">\n",
      "<HDF5 dataset \"start_orbit\": shape (1,), type \"<i4\">\n",
      "<HDF5 dataset \"start_region\": shape (1,), type \"<i4\">\n",
      "<HDF5 dataset \"start_rgt\": shape (1,), type \"<i4\">\n",
      "<HDF5 dataset \"version\": shape (1,), type \"|S80\">\n",
      "<HDF5 group \"/ancillary_data/land_ice\" (19 members)>\n",
      "---\n",
      "Group: gt1l\n",
      "---\n",
      "<HDF5 group \"/gt1l/land_ice_segments\" (13 members)>\n",
      "<HDF5 group \"/gt1l/residual_histogram\" (10 members)>\n",
      "<HDF5 group \"/gt1l/segment_quality\" (7 members)>\n",
      "---\n",
      "Group: gt1r\n",
      "---\n",
      "<HDF5 group \"/gt1r/land_ice_segments\" (13 members)>\n",
      "<HDF5 group \"/gt1r/residual_histogram\" (10 members)>\n",
      "<HDF5 group \"/gt1r/segment_quality\" (7 members)>\n",
      "---\n",
      "Group: gt2l\n",
      "---\n",
      "<HDF5 group \"/gt2l/land_ice_segments\" (13 members)>\n",
      "<HDF5 group \"/gt2l/residual_histogram\" (10 members)>\n",
      "<HDF5 group \"/gt2l/segment_quality\" (7 members)>\n",
      "---\n",
      "Group: gt2r\n",
      "---\n",
      "<HDF5 group \"/gt2r/land_ice_segments\" (13 members)>\n",
      "<HDF5 group \"/gt2r/residual_histogram\" (10 members)>\n",
      "<HDF5 group \"/gt2r/segment_quality\" (7 members)>\n",
      "---\n",
      "Group: gt3l\n",
      "---\n",
      "<HDF5 group \"/gt3l/land_ice_segments\" (13 members)>\n",
      "<HDF5 group \"/gt3l/residual_histogram\" (10 members)>\n",
      "<HDF5 group \"/gt3l/segment_quality\" (7 members)>\n",
      "---\n",
      "Group: gt3r\n",
      "---\n",
      "<HDF5 group \"/gt3r/land_ice_segments\" (13 members)>\n",
      "<HDF5 group \"/gt3r/residual_histogram\" (10 members)>\n",
      "<HDF5 group \"/gt3r/segment_quality\" (7 members)>\n",
      "---\n",
      "Group: orbit_info\n",
      "---\n",
      "<HDF5 dataset \"crossing_time\": shape (1,), type \"<f8\">\n",
      "<HDF5 dataset \"cycle_number\": shape (1,), type \"|i1\">\n",
      "<HDF5 dataset \"lan\": shape (1,), type \"<f8\">\n",
      "<HDF5 dataset \"orbit_number\": shape (1,), type \"<u2\">\n",
      "<HDF5 dataset \"rgt\": shape (1,), type \"<i2\">\n",
      "<HDF5 dataset \"sc_orient\": shape (1,), type \"|i1\">\n",
      "<HDF5 dataset \"sc_orient_time\": shape (1,), type \"<f8\">\n",
      "---\n",
      "Group: quality_assessment\n",
      "---\n",
      "<HDF5 dataset \"qa_granule_fail_reason\": shape (1,), type \"<i4\">\n",
      "<HDF5 dataset \"qa_granule_pass_fail\": shape (1,), type \"<i4\">\n",
      "<HDF5 group \"/quality_assessment/gt1l\" (7 members)>\n",
      "<HDF5 group \"/quality_assessment/gt1r\" (7 members)>\n",
      "<HDF5 group \"/quality_assessment/gt2l\" (7 members)>\n",
      "<HDF5 group \"/quality_assessment/gt2r\" (7 members)>\n",
      "<HDF5 group \"/quality_assessment/gt3l\" (7 members)>\n",
      "<HDF5 group \"/quality_assessment/gt3r\" (7 members)>\n"
     ]
    }
   ],
   "source": [
    "printGroups = True\n",
    "groups = list(native.keys())\n",
    "for g in groups:\n",
    "    group = native[g]\n",
    "    if printGroups:\n",
    "        print('---')\n",
    "        print('Group: {}'.format(g))\n",
    "        print('---')\n",
    "        for d in group.keys():\n",
    "            print(group[d])"
   ]
  },
  {
   "cell_type": "markdown",
   "metadata": {},
   "source": [
    "Subsetted file groups:"
   ]
  },
  {
   "cell_type": "code",
   "execution_count": 40,
   "metadata": {},
   "outputs": [
    {
     "name": "stdout",
     "output_type": "stream",
     "text": [
      "---\n",
      "Group: METADATA\n",
      "---\n",
      "<HDF5 group \"/METADATA/AcquisitionInformation\" (4 members)>\n",
      "<HDF5 group \"/METADATA/DataQuality\" (2 members)>\n",
      "<HDF5 group \"/METADATA/DatasetIdentification\" (0 members)>\n",
      "<HDF5 group \"/METADATA/Extent\" (0 members)>\n",
      "<HDF5 group \"/METADATA/Lineage\" (13 members)>\n",
      "<HDF5 group \"/METADATA/ProcessStep\" (4 members)>\n",
      "<HDF5 group \"/METADATA/ProductSpecificationDocument\" (0 members)>\n",
      "<HDF5 group \"/METADATA/QADatasetIdentification\" (0 members)>\n",
      "<HDF5 group \"/METADATA/SeriesIdentification\" (0 members)>\n",
      "---\n",
      "Group: ancillary_data\n",
      "---\n",
      "<HDF5 dataset \"atlas_sdp_gps_epoch\": shape (1,), type \"<f8\">\n",
      "---\n",
      "Group: gt1l\n",
      "---\n",
      "<HDF5 group \"/gt1l/land_ice_segments\" (8 members)>\n",
      "---\n",
      "Group: gt1r\n",
      "---\n",
      "<HDF5 group \"/gt1r/land_ice_segments\" (8 members)>\n",
      "---\n",
      "Group: gt2l\n",
      "---\n",
      "<HDF5 group \"/gt2l/land_ice_segments\" (8 members)>\n",
      "---\n",
      "Group: gt2r\n",
      "---\n",
      "<HDF5 group \"/gt2r/land_ice_segments\" (8 members)>\n",
      "---\n",
      "Group: gt3l\n",
      "---\n",
      "<HDF5 group \"/gt3l/land_ice_segments\" (8 members)>\n",
      "---\n",
      "Group: gt3r\n",
      "---\n",
      "<HDF5 group \"/gt3r/land_ice_segments\" (8 members)>\n",
      "---\n",
      "Group: orbit_info\n",
      "---\n",
      "<HDF5 dataset \"cycle_number\": shape (1,), type \"|i1\">\n",
      "<HDF5 dataset \"orbit_number\": shape (1,), type \"<u2\">\n",
      "<HDF5 dataset \"rgt\": shape (1,), type \"<i2\">\n"
     ]
    }
   ],
   "source": [
    "printGroups = True\n",
    "groups = list(processed.keys())\n",
    "for g in groups:\n",
    "    group = processed[g]\n",
    "    if printGroups:\n",
    "        print('---')\n",
    "        print('Group: {}'.format(g))\n",
    "        print('---')\n",
    "        for d in group.keys():\n",
    "            print(group[d])\n"
   ]
  },
  {
   "cell_type": "markdown",
   "metadata": {},
   "source": [
    "Compare geolocation range from the /gt1l/land_ice_segments group:"
   ]
  },
  {
   "cell_type": "code",
   "execution_count": 41,
   "metadata": {},
   "outputs": [
    {
     "name": "stdout",
     "output_type": "stream",
     "text": [
      "array size of native file height variable:\n",
      "17965\n",
      "array size of subsetted height variable:\n",
      "6890\n",
      "native file latitude range:\n",
      "-79.0073823818177 -71.42557447321147\n",
      "native file longitude range:\n",
      "-100.00773826372749 -95.21117551470294\n",
      "subsetted file latitude range:\n",
      "-77.30068865327192 -74.20384025265416\n",
      "subsetted file longitude range:\n",
      "-98.48516801258202 -96.4963418258078\n"
     ]
    }
   ],
   "source": [
    "with h5py.File(native_file,'r') as native:\n",
    "    native_groups = list(native.keys())\n",
    "    n_hvar = native['/gt1l/land_ice_segments/h_li']\n",
    "    n_h = n_hvar[:]\n",
    "    n_latvar = native['/gt1l/land_ice_segments/latitude']\n",
    "    n_latitude = n_latvar[:]\n",
    "    n_lonvar = native['/gt1l/land_ice_segments/longitude']\n",
    "    n_longitude = n_lonvar[:]\n",
    "\n",
    "with h5py.File(processed_file,'r') as processed:\n",
    "    processed_groups = list(processed.keys())\n",
    "    p_hvar = processed['/gt1l/land_ice_segments/h_li']\n",
    "    p_h = p_hvar[:]\n",
    "    p_latvar = processed['/gt1l/land_ice_segments/latitude']\n",
    "    p_latitude = p_latvar[:]\n",
    "    p_lonvar = processed['/gt1l/land_ice_segments/longitude']\n",
    "    p_longitude = p_lonvar[:]\n",
    "    \n",
    "print('array size of native file height variable:')\n",
    "print(len(n_h))\n",
    "print('array size of subsetted height variable:')\n",
    "print(len(p_h))\n",
    "\n",
    "print('native file latitude range:')\n",
    "print(min(n_latitude), max(n_latitude))\n",
    "print('native file longitude range:')\n",
    "print(min(n_longitude), max(n_longitude))\n",
    "\n",
    "print('subsetted file latitude range:')\n",
    "print(min(p_latitude), max(p_latitude))\n",
    "print('subsetted file longitude range:')\n",
    "print(min(p_longitude), max(p_longitude))"
   ]
  },
  {
   "cell_type": "markdown",
   "metadata": {},
   "source": [
    "## Request Data\n",
    "\n",
    "#### Finally, we'll download the data directly to this notebook directory in a new Outputs folder. The progress of each order will be reported.\n",
    "\n",
    "We'll start by creating an output folder if the folder does not already exist."
   ]
  },
  {
   "cell_type": "code",
   "execution_count": 42,
   "metadata": {},
   "outputs": [],
   "source": [
    "path = str(os.getcwd() + '/Outputs')\n",
    "if not os.path.exists(path):\n",
    "    os.mkdir(path)"
   ]
  },
  {
   "cell_type": "markdown",
   "metadata": {},
   "source": [
    "First we'll submit our request without subsetting services:"
   ]
  },
  {
   "cell_type": "code",
   "execution_count": 43,
   "metadata": {},
   "outputs": [
    {
     "name": "stdout",
     "output_type": "stream",
     "text": [
      "Order:  1\n",
      "Request HTTP response:  201\n",
      "Order request URL:  https://n5eil02u.ecs.nsidc.org/egi/request?short_name=ATL06&version=001&temporal=2019-02-22T00%3A00%3A00Z%2C2019-02-22T23%3A59%3A59Z&polygon=-86.622742%2C-74.908126%2C-86.561712%2C-74.870913%2C-86.868859%2C-74.730522%2C-86.962905%2C-74.605038%2C-89.02594%2C-74.316754%2C-89.630517%2C-74.192147%2C-89.830808%2C-74.065919%2C-90.746478%2C-73.956258%2C-91.668214%2C-74.023169%2C-92.049815%2C-73.929387%2C-93.420791%2C-73.929327%2C-93.997163%2C-73.882768%2C-94.277701%2C-73.714183%2C-95.133017%2C-73.966355%2C-96.513501%2C-74.127404%2C-99.889802%2C-74.085347%2C-100.114438%2C-74.019422%2C-100.355131%2C-74.080906%2C-100.462734%2C-74.240864%2C-100.827076%2C-74.373988%2C-101.795349%2C-74.369597%2C-102.424826%2C-74.497263%2C-101.188725%2C-74.7179%2C-101.564382%2C-75.02971%2C-103.37484%2C-75.273725%2C-103.914847%2C-75.426057%2C-104.012128%2C-75.5223%2C-103.029452%2C-75.748774%2C-102.350567%2C-75.749245%2C-101.837882%2C-75.943066%2C-101.899461%2C-76.014086%2C-101.280944%2C-76.192769%2C-101.325735%2C-76.246168%2C-101.190803%2C-76.27106%2C-101.250474%2C-76.342292%2C-101.175067%2C-76.345822%2C-101.402436%2C-76.52035%2C-101.326063%2C-76.523929%2C-101.449791%2C-76.666392%2C-101.310795%2C-76.691373%2C-101.357407%2C-76.744819%2C-101.217404%2C-76.769752%2C-101.295133%2C-76.85887%2C-101.058051%2C-76.962123%2C-100.447336%2C-77.117686%2C-98.433698%2C-77.320866%2C-97.28308%2C-77.355688%2C-97.491148%2C-77.423178%2C-96.514174%2C-77.485919%2C-96.552494%2C-77.558236%2C-96.384656%2C-77.562336%2C-96.441516%2C-77.670857%2C-97.139363%2C-77.836566%2C-97.193451%2C-77.926901%2C-97.64271%2C-78.080044%2C-96.297869%2C-78.388943%2C-96.327803%2C-78.44329%2C-95.721466%2C-78.511065%2C-95.748962%2C-78.565482%2C-94.940425%2C-78.617072%2C-94.988611%2C-78.726066%2C-94.911669%2C-78.763976%2C-95.609268%2C-78.843079%2C-95.637038%2C-78.897535%2C-95.37191%2C-78.9391%2C-95.693408%2C-79.006456%2C-95.269903%2C-79.124145%2C-95.323729%2C-79.233172%2C-95.430206%2C-79.249633%2C-95.155505%2C-79.291032%2C-95.191045%2C-79.363748%2C-94.81352%2C-79.406486%2C-94.847075%2C-79.479253%2C-94.747448%2C-79.48078%2C-94.772403%2C-79.535367%2C-93.90411%2C-79.638844%2C-93.843651%2C-79.749409%2C-93.967323%2C-79.802836%2C-93.788723%2C-79.87821%2C-93.816393%2C-79.951128%2C-93.230546%2C-80.085534%2C-91.707475%2C-79.87748%2C-91.801545%2C-79.822143%2C-91.488897%2C-79.805457%2C-91.465152%2C-79.641131%2C-90.447349%2C-79.5894%2C-90.545492%2C-79.534464%2C-90.042319%2C-79.37062%2C-90.140775%2C-79.334083%2C-90.041814%2C-79.24285%2C-88.982186%2C-79.076903%2C-90.230262%2C-78.914333%2C-90.32191%2C-78.804808%2C-90.689626%2C-78.676516%2C-91.150024%2C-78.638589%2C-92.035347%2C-78.414844%2C-92.106013%2C-78.30491%2C-91.651645%2C-78.271472%2C-91.365784%2C-78.127206%2C-91.188783%2C-78.128018%2C-91.090167%2C-78.019109%2C-90.737076%2C-77.983849%2C-90.909191%2C-77.946905%2C-90.732603%2C-77.911009%2C-90.727088%2C-77.819973%2C-91.070502%2C-77.800626%2C-91.14118%2C-77.636469%2C-91.90279%2C-77.613923%2C-91.984627%2C-77.595116%2C-91.972963%2C-77.522365%2C-92.466819%2C-77.463587%2C-92.199521%2C-77.374914%2C-92.352136%2C-77.300761%2C-92.335283%2C-77.209895%2C-91.434206%2C-77.234653%2C-91.426015%2C-77.16193%2C-91.015545%2C-77.145686%2C-91.008355%2C-77.054784%2C-91.086397%2C-77.018096%2C-91.647835%2C-76.97871%2C-91.640906%2C-76.924199%2C-91.873848%2C-76.868024%2C-91.779021%2C-76.759619%2C-90.823937%2C-76.710073%2C-90.345113%2C-76.52953%2C-86.988029%2C-75.856983%2C-86.945563%2C-75.711143%2C-86.872234%2C-75.710165%2C-87.034102%2C-75.63967%2C-86.965004%2C-75.620616%2C-87.075115%2C-75.440545%2C-87.003154%2C-75.439609%2C-87.021872%2C-75.349129%2C-86.835058%2C-75.219586%2C-86.850654%2C-75.147247%2C-86.717729%2C-75.109052%2C-86.737771%2C-75.018662%2C-86.602149%2C-74.998483%2C-86.622742%2C-74.908126&agent=NO&request_mode=async&page_size=10&token=94D4B84A-3632-850A-AC97-C94CC2D8C815&email=amy.steiker%40nsidc.org&page_num=1\n",
      "Order request response XML content:  b'<?xml version=\"1.0\" encoding=\"UTF-8\" standalone=\"yes\"?>\\n<eesi:agentResponse xsi:schemaLocation=\"http://eosdis.nasa.gov/esi/rsp/e https://newsroom.gsfc.nasa.gov/esi/8.1/schemas/ESIAgentResponseExternal.xsd\" xmlns=\"\" xmlns:iesi=\"http://eosdis.nasa.gov/esi/rsp/i\" xmlns:ssw=\"http://newsroom.gsfc.nasa.gov/esi/rsp/ssw\" xmlns:eesi=\"http://eosdis.nasa.gov/esi/rsp/e\" xmlns:esi=\"http://eosdis.nasa.gov/esi/rsp\" xmlns:xsi=\"http://www.w3.org/2001/XMLSchema-instance\">\\n    <order>\\n        <orderId>5000000318716</orderId>\\n        <Instructions>You may receive an email about your order if you specified an EMAIL address. &lt;br/&gt;&lt;br/&gt;The instructions used to process this order are:  Processing tool=NO. Granule id(s)=SC:ATL06.001:161340025,SC:ATL06.001:161340094,SC:ATL06.001:161340262,SC:ATL06.001:161326920. Email address=amy.steiker@nsidc.org.</Instructions>\\n    </order>\\n    <contactInformation>\\n        <contactName>NSIDC User Services</contactName>\\n        <contactEmail>nsidc@nsidc.org</contactEmail>\\n    </contactInformation>\\n    <processInfo>\\n        <processDuration>PT0.088S</processDuration>\\n        <subagentId>NO</subagentId>\\n    </processInfo>\\n    <requestStatus>\\n        <status>processing</status>\\n        <numberProcessed>0</numberProcessed>\\n        <totalNumber>4</totalNumber>\\n    </requestStatus>\\n</eesi:agentResponse>\\n'\n",
      "order ID:  5000000318716\n",
      "status URL:  https://n5eil02u.ecs.nsidc.org/egi/request/5000000318716\n",
      "HTTP response from order response URL:  201\n",
      "Data request  1  is submitting...\n",
      "Initial request status is  processing\n",
      "Status is not complete. Trying again.\n",
      "Retry request status is:  complete\n",
      "Zip download URL:  https://n5eil02u.ecs.nsidc.org/esir/5000000318716.zip\n",
      "Beginning download of zipped output...\n",
      "Data request 1 is complete.\n"
     ]
    }
   ],
   "source": [
    "# Request data service for each page number, and unzip outputs\n",
    "\n",
    "for i in range(page_num):\n",
    "    page_val = i + 1\n",
    "    print('Order: ', page_val)\n",
    "    request_params.update( {'page_num': page_val} )\n",
    "    \n",
    "# For all requests other than spatial file upload, use get function\n",
    "    request = session.get(base_url, params=request_params)\n",
    "    \n",
    "    print('Request HTTP response: ', request.status_code)\n",
    "\n",
    "# Raise bad request: Loop will stop for bad response code.\n",
    "    request.raise_for_status()\n",
    "    print('Order request URL: ', request.url)\n",
    "    esir_root = ET.fromstring(request.content)\n",
    "    print('Order request response XML content: ', request.content)\n",
    "\n",
    "#Look up order ID\n",
    "    orderlist = []   \n",
    "    for order in esir_root.findall(\"./order/\"):\n",
    "        orderlist.append(order.text)\n",
    "    orderID = orderlist[0]\n",
    "    print('order ID: ', orderID)\n",
    "\n",
    "#Create status URL\n",
    "    statusURL = base_url + '/' + orderID\n",
    "    print('status URL: ', statusURL)\n",
    "\n",
    "#Find order status\n",
    "    request_response = session.get(statusURL)    \n",
    "    print('HTTP response from order response URL: ', request_response.status_code)\n",
    "    \n",
    "# Raise bad request: Loop will stop for bad response code.\n",
    "    request_response.raise_for_status()\n",
    "    request_root = ET.fromstring(request_response.content)\n",
    "    statuslist = []\n",
    "    for status in request_root.findall(\"./requestStatus/\"):\n",
    "        statuslist.append(status.text)\n",
    "    status = statuslist[0]\n",
    "    print('Data request ', page_val, ' is submitting...')\n",
    "    print('Initial request status is ', status)\n",
    "\n",
    "#Continue loop while request is still processing\n",
    "    while status == 'pending' or status == 'processing': \n",
    "        print('Status is not complete. Trying again.')\n",
    "        time.sleep(10)\n",
    "        loop_response = session.get(statusURL)\n",
    "\n",
    "# Raise bad request: Loop will stop for bad response code.\n",
    "        loop_response.raise_for_status()\n",
    "        loop_root = ET.fromstring(loop_response.content)\n",
    "\n",
    "#find status\n",
    "        statuslist = []\n",
    "        for status in loop_root.findall(\"./requestStatus/\"):\n",
    "            statuslist.append(status.text)\n",
    "        status = statuslist[0]\n",
    "        print('Retry request status is: ', status)\n",
    "        if status == 'pending' or status == 'processing':\n",
    "            continue\n",
    "\n",
    "#Order can either complete, complete_with_errors, or fail:\n",
    "# Provide complete_with_errors error message:\n",
    "    if status == 'complete_with_errors' or status == 'failed':\n",
    "        messagelist = []\n",
    "        for message in loop_root.findall(\"./processInfo/\"):\n",
    "            messagelist.append(message.text)\n",
    "        print('error messages:')\n",
    "        pprint.pprint(messagelist)\n",
    "\n",
    "# Download zipped order if status is complete or complete_with_errors\n",
    "    if status == 'complete' or status == 'complete_with_errors':\n",
    "        downloadURL = 'https://n5eil02u.ecs.nsidc.org/esir/' + orderID + '.zip'\n",
    "        print('Zip download URL: ', downloadURL)\n",
    "        print('Beginning download of zipped output...')\n",
    "        zip_response = session.get(downloadURL)\n",
    "        # Raise bad request: Loop will stop for bad response code.\n",
    "        zip_response.raise_for_status()\n",
    "        with zipfile.ZipFile(io.BytesIO(zip_response.content)) as z:\n",
    "            z.extractall(path)\n",
    "        print('Data request', page_val, 'is complete.')\n",
    "    else: print('Request failed.')\n"
   ]
  },
  {
   "cell_type": "markdown",
   "metadata": {},
   "source": [
    "Let's run our request loop again, this time with subsetting services applied. We will post the KML file directly to the API:"
   ]
  },
  {
   "cell_type": "code",
   "execution_count": 44,
   "metadata": {},
   "outputs": [
    {
     "name": "stdout",
     "output_type": "stream",
     "text": [
      "Order:  1\n",
      "Request HTTP response:  201\n",
      "Order request URL:  https://n5eil02u.ecs.nsidc.org/egi/request?short_name=ATL06&version=001&temporal=2019-02-22T00%3A00%3A00Z%2C2019-02-22T23%3A59%3A59Z&time=2019-02-22T00%3A00%3A00%2C2019-02-22T23%3A59%3A59&polygon=-86.622742%2C-74.908126%2C-86.561712%2C-74.870913%2C-86.868859%2C-74.730522%2C-86.962905%2C-74.605038%2C-89.02594%2C-74.316754%2C-89.630517%2C-74.192147%2C-89.830808%2C-74.065919%2C-90.746478%2C-73.956258%2C-91.668214%2C-74.023169%2C-92.049815%2C-73.929387%2C-93.420791%2C-73.929327%2C-93.997163%2C-73.882768%2C-94.277701%2C-73.714183%2C-95.133017%2C-73.966355%2C-96.513501%2C-74.127404%2C-99.889802%2C-74.085347%2C-100.114438%2C-74.019422%2C-100.355131%2C-74.080906%2C-100.462734%2C-74.240864%2C-100.827076%2C-74.373988%2C-101.795349%2C-74.369597%2C-102.424826%2C-74.497263%2C-101.188725%2C-74.7179%2C-101.564382%2C-75.02971%2C-103.37484%2C-75.273725%2C-103.914847%2C-75.426057%2C-104.012128%2C-75.5223%2C-103.029452%2C-75.748774%2C-102.350567%2C-75.749245%2C-101.837882%2C-75.943066%2C-101.899461%2C-76.014086%2C-101.280944%2C-76.192769%2C-101.325735%2C-76.246168%2C-101.190803%2C-76.27106%2C-101.250474%2C-76.342292%2C-101.175067%2C-76.345822%2C-101.402436%2C-76.52035%2C-101.326063%2C-76.523929%2C-101.449791%2C-76.666392%2C-101.310795%2C-76.691373%2C-101.357407%2C-76.744819%2C-101.217404%2C-76.769752%2C-101.295133%2C-76.85887%2C-101.058051%2C-76.962123%2C-100.447336%2C-77.117686%2C-98.433698%2C-77.320866%2C-97.28308%2C-77.355688%2C-97.491148%2C-77.423178%2C-96.514174%2C-77.485919%2C-96.552494%2C-77.558236%2C-96.384656%2C-77.562336%2C-96.441516%2C-77.670857%2C-97.139363%2C-77.836566%2C-97.193451%2C-77.926901%2C-97.64271%2C-78.080044%2C-96.297869%2C-78.388943%2C-96.327803%2C-78.44329%2C-95.721466%2C-78.511065%2C-95.748962%2C-78.565482%2C-94.940425%2C-78.617072%2C-94.988611%2C-78.726066%2C-94.911669%2C-78.763976%2C-95.609268%2C-78.843079%2C-95.637038%2C-78.897535%2C-95.37191%2C-78.9391%2C-95.693408%2C-79.006456%2C-95.269903%2C-79.124145%2C-95.323729%2C-79.233172%2C-95.430206%2C-79.249633%2C-95.155505%2C-79.291032%2C-95.191045%2C-79.363748%2C-94.81352%2C-79.406486%2C-94.847075%2C-79.479253%2C-94.747448%2C-79.48078%2C-94.772403%2C-79.535367%2C-93.90411%2C-79.638844%2C-93.843651%2C-79.749409%2C-93.967323%2C-79.802836%2C-93.788723%2C-79.87821%2C-93.816393%2C-79.951128%2C-93.230546%2C-80.085534%2C-91.707475%2C-79.87748%2C-91.801545%2C-79.822143%2C-91.488897%2C-79.805457%2C-91.465152%2C-79.641131%2C-90.447349%2C-79.5894%2C-90.545492%2C-79.534464%2C-90.042319%2C-79.37062%2C-90.140775%2C-79.334083%2C-90.041814%2C-79.24285%2C-88.982186%2C-79.076903%2C-90.230262%2C-78.914333%2C-90.32191%2C-78.804808%2C-90.689626%2C-78.676516%2C-91.150024%2C-78.638589%2C-92.035347%2C-78.414844%2C-92.106013%2C-78.30491%2C-91.651645%2C-78.271472%2C-91.365784%2C-78.127206%2C-91.188783%2C-78.128018%2C-91.090167%2C-78.019109%2C-90.737076%2C-77.983849%2C-90.909191%2C-77.946905%2C-90.732603%2C-77.911009%2C-90.727088%2C-77.819973%2C-91.070502%2C-77.800626%2C-91.14118%2C-77.636469%2C-91.90279%2C-77.613923%2C-91.984627%2C-77.595116%2C-91.972963%2C-77.522365%2C-92.466819%2C-77.463587%2C-92.199521%2C-77.374914%2C-92.352136%2C-77.300761%2C-92.335283%2C-77.209895%2C-91.434206%2C-77.234653%2C-91.426015%2C-77.16193%2C-91.015545%2C-77.145686%2C-91.008355%2C-77.054784%2C-91.086397%2C-77.018096%2C-91.647835%2C-76.97871%2C-91.640906%2C-76.924199%2C-91.873848%2C-76.868024%2C-91.779021%2C-76.759619%2C-90.823937%2C-76.710073%2C-90.345113%2C-76.52953%2C-86.988029%2C-75.856983%2C-86.945563%2C-75.711143%2C-86.872234%2C-75.710165%2C-87.034102%2C-75.63967%2C-86.965004%2C-75.620616%2C-87.075115%2C-75.440545%2C-87.003154%2C-75.439609%2C-87.021872%2C-75.349129%2C-86.835058%2C-75.219586%2C-86.850654%2C-75.147247%2C-86.717729%2C-75.109052%2C-86.737771%2C-75.018662%2C-86.602149%2C-74.998483%2C-86.622742%2C-74.908126&Coverage=%2Fancillary_data%2Fatlas_sdp_gps_epoch%2C%2Fgt1l%2Fland_ice_segments%2Fatl06_quality_summary%2C%2Fgt1l%2Fland_ice_segments%2Fdelta_time%2C%2Fgt1l%2Fland_ice_segments%2Fh_li%2C%2Fgt1l%2Fland_ice_segments%2Fh_li_sigma%2C%2Fgt1l%2Fland_ice_segments%2Flatitude%2C%2Fgt1l%2Fland_ice_segments%2Flongitude%2C%2Fgt1l%2Fland_ice_segments%2Fsegment_id%2C%2Fgt1l%2Fland_ice_segments%2Fsigma_geo_h%2C%2Fgt1r%2Fland_ice_segments%2Fatl06_quality_summary%2C%2Fgt1r%2Fland_ice_segments%2Fdelta_time%2C%2Fgt1r%2Fland_ice_segments%2Fh_li%2C%2Fgt1r%2Fland_ice_segments%2Fh_li_sigma%2C%2Fgt1r%2Fland_ice_segments%2Flatitude%2C%2Fgt1r%2Fland_ice_segments%2Flongitude%2C%2Fgt1r%2Fland_ice_segments%2Fsegment_id%2C%2Fgt1r%2Fland_ice_segments%2Fsigma_geo_h%2C%2Fgt2l%2Fland_ice_segments%2Fatl06_quality_summary%2C%2Fgt2l%2Fland_ice_segments%2Fdelta_time%2C%2Fgt2l%2Fland_ice_segments%2Fh_li%2C%2Fgt2l%2Fland_ice_segments%2Fh_li_sigma%2C%2Fgt2l%2Fland_ice_segments%2Flatitude%2C%2Fgt2l%2Fland_ice_segments%2Flongitude%2C%2Fgt2l%2Fland_ice_segments%2Fsegment_id%2C%2Fgt2l%2Fland_ice_segments%2Fsigma_geo_h%2C%2Fgt2r%2Fland_ice_segments%2Fatl06_quality_summary%2C%2Fgt2r%2Fland_ice_segments%2Fdelta_time%2C%2Fgt2r%2Fland_ice_segments%2Fh_li%2C%2Fgt2r%2Fland_ice_segments%2Fh_li_sigma%2C%2Fgt2r%2Fland_ice_segments%2Flatitude%2C%2Fgt2r%2Fland_ice_segments%2Flongitude%2C%2Fgt2r%2Fland_ice_segments%2Fsegment_id%2C%2Fgt2r%2Fland_ice_segments%2Fsigma_geo_h%2C%2Fgt3l%2Fland_ice_segments%2Fatl06_quality_summary%2C%2Fgt3l%2Fland_ice_segments%2Fdelta_time%2C%2Fgt3l%2Fland_ice_segments%2Fh_li%2C%2Fgt3l%2Fland_ice_segments%2Fh_li_sigma%2C%2Fgt3l%2Fland_ice_segments%2Flatitude%2C%2Fgt3l%2Fland_ice_segments%2Flongitude%2C%2Fgt3l%2Fland_ice_segments%2Fsegment_id%2C%2Fgt3l%2Fland_ice_segments%2Fsigma_geo_h%2C%2Fgt3r%2Fland_ice_segments%2Fatl06_quality_summary%2C%2Fgt3r%2Fland_ice_segments%2Fdelta_time%2C%2Fgt3r%2Fland_ice_segments%2Fh_li%2C%2Fgt3r%2Fland_ice_segments%2Fh_li_sigma%2C%2Fgt3r%2Fland_ice_segments%2Flatitude%2C%2Fgt3r%2Fland_ice_segments%2Flongitude%2C%2Fgt3r%2Fland_ice_segments%2Fsegment_id%2C%2Fgt3r%2Fland_ice_segments%2Fsigma_geo_h%2C%2Forbit_info%2Fcycle_number%2C%2Forbit_info%2Frgt%2C%2Forbit_info%2Forbit_number&request_mode=async&page_size=10&token=94D4B84A-3632-850A-AC97-C94CC2D8C815&email=amy.steiker%40nsidc.org&page_num=1\n",
      "Order request response XML content:  b'<?xml version=\"1.0\" encoding=\"UTF-8\" standalone=\"yes\"?>\\n<eesi:agentResponse xsi:schemaLocation=\"http://eosdis.nasa.gov/esi/rsp/e https://newsroom.gsfc.nasa.gov/esi/8.1/schemas/ESIAgentResponseExternal.xsd\" xmlns=\"\" xmlns:iesi=\"http://eosdis.nasa.gov/esi/rsp/i\" xmlns:ssw=\"http://newsroom.gsfc.nasa.gov/esi/rsp/ssw\" xmlns:eesi=\"http://eosdis.nasa.gov/esi/rsp/e\" xmlns:esi=\"http://eosdis.nasa.gov/esi/rsp\" xmlns:xsi=\"http://www.w3.org/2001/XMLSchema-instance\">\\n    <order>\\n        <orderId>5000000318717</orderId>\\n        <Instructions>You may receive an email about your order if you specified an EMAIL address. &lt;br/&gt;&lt;br/&gt;The instructions used to process this order are:  Bounding Shape={\"type\":\"FeatureCollection\",\"crs\":{\"type\":\"name\",\"properties\":{\"name\":\"urn:ogc:def:crs:OGC:1.3:CRS84\"}},\"features\":[{\"type\":\"Feature\",\"properties\":{\"Name\":null,\"description\":null,\"timestamp\":null,\"begin\":null,\"end\":null,\"altitudeMode\":null,\"tessellate\":-1,\"extrude\":0,\"visibility\":-1,\"drawOrder\":null,\"icon\":null,\"line_type\":\"glac_bound\",\"anlys_id\":528486,\"glac_id\":\"G263560E76894S\",\"anlys_time\":\"2018-07-19T00:00:00\",\"area\":165078,\"db_area\":165079,\"width\":0,\"length\":0,\"primeclass\":0,\"min_elev\":9,\"mean_elev\":1085,\"max_elev\":2181,\"src_date\":\"2001-10-01T00:00:00\",\"rec_status\":\"okay\",\"glac_name\":\"Pine Island Glacier\",\"wgms_id\":\"None\",\"local_id\":\"None\",\"glac_stat\":\"exists\",\"subm_id\":697,\"release_dt\":\"2018-06-21T09:00:00\",\"proc_desc\":\"Manual glacier classification.; Manual glacier mapping from LIMA imagery\",\"rc_id\":15,\"geog_area\":\"West Antarctica\",\"chief_affl\":\"Tongji University\",\"loc_unc_x\":50,\"loc_unc_y\":50,\"glob_unc_x\":80,\"glob_unc_y\":80,\"submitters\":\"HAI, Gang\",\"analysts\":\"HAI, Gang; LI, Rongxing; Tian, Yixiang; Xie, Huan\"},\"geometry\":{\"type\":\"Polygon\",\"coordinates\":[[[-86.622742,-74.908126,0],[-86.553377,-74.907049,0],[-86.561712,-74.870913,0],[-86.63091,-74.871988,0],[-86.647127,-74.799719,0],[-86.716003,-74.800766,0],[-86.723889,-74.764633,0],[-86.792609,-74.765656,0],[-86.800293,-74.729523,0],[-86.868859,-74.730522,0],[-86.887503,-74.640195,0],[-86.955671,-74.641167,0],[-86.962905,-74.605038,0],[-87.03092,-74.605986,0],[-87.034444,-74.587922,0],[-87.238298,-74.590633,0],[-87.241573,-74.572566,0],[-87.513164,-74.575876,0],[-87.51611,-74.557806,0],[-87.583946,-74.558579,0],[-87.586805,-74.540508,0],[-87.654567,-74.541259,0],[-87.65734,-74.523188,0],[-87.792724,-74.524624,0],[-87.79533,-74.506552,0],[-87.862952,-74.507237,0],[-87.865472,-74.489165,0],[-87.93302,-74.489828,0],[-87.935456,-74.471756,0],[-88.07041,-74.473017,0],[-88.072681,-74.454944,0],[-88.140087,-74.455541,0],[-88.142273,-74.437468,0],[-88.276942,-74.438598,0],[-88.278965,-74.420525,0],[-88.346228,-74.421057,0],[-88.348167,-74.402984,0],[-88.482549,-74.403984,0],[-88.484327,-74.38591,0],[-88.618567,-74.386824,0],[-88.620184,-74.368749,0],[-88.687231,-74.369174,0],[-88.688766,-74.3511,0],[-88.822715,-74.351885,0],[-88.82409,-74.333811,0],[-88.890991,-74.334171,0],[-88.892285,-74.316097,0],[-89.02594,-74.316754,0],[-89.028207,-74.280607,0],[-89.161562,-74.281178,0],[-89.162537,-74.263104,0],[-89.22914,-74.263358,0],[-89.230036,-74.245285,0],[-89.296564,-74.245518,0],[-89.29738,-74.227445,0],[-89.430287,-74.227847,0],[-89.430947,-74.209775,0],[-89.563707,-74.210092,0],[-89.564212,-74.19202,0],[-89.630517,-74.192147,0],[-89.63137,-74.156006,0],[-89.697523,-74.156112,0],[-89.69822,-74.119973,0],[-89.764221,-74.120058,0],[-89.764492,-74.10199,0],[-89.830418,-74.102053,0],[-89.830808,-74.065919,0],[-90.028133,-74.065986,0],[-90.028101,-74.04792,0],[-90.1595,-74.047861,0],[-90.159318,-74.029795,0],[-90.290565,-74.029653,0],[-90.290232,-74.011589,0],[-90.486872,-74.011222,0],[-90.486316,-73.993159,0],[-90.551785,-73.992995,0],[-90.551155,-73.974933,0],[-90.74733,-73.974319,0],[-90.746478,-73.956258,0],[-90.811791,-73.956012,0],[-90.812717,-73.974073,0],[-90.878103,-73.973806,0],[-90.879106,-73.991867,0],[-91.01002,-73.991272,0],[-91.011175,-74.009332,0],[-91.076703,-74.009003,0],[-91.077936,-74.027065,0],[-91.668214,-74.023169,0],[-91.666307,-74.005112,0],[-91.731798,-74.004576,0],[-91.729821,-73.986521,0],[-91.795233,-73.985966,0],[-91.793186,-73.967912,0],[-91.923848,-73.96674,0],[-91.921656,-73.948689,0],[-92.05215,-73.947436,0],[-92.049815,-73.929387,0],[-92.114979,-73.92873,0],[-92.117389,-73.946779,0],[-93.030081,-73.935424,0],[-93.033533,-73.95346,0],[-93.098746,-73.952494,0],[-93.095219,-73.934459,0],[-93.420791,-73.929327,0],[-93.416904,-73.911299,0],[-93.546925,-73.909105,0],[-93.5429,-73.89108,0],[-93.997163,-73.882768,0],[-93.992635,-73.864754,0],[-94.057417,-73.863487,0],[-94.052828,-73.845474,0],[-94.117527,-73.844188,0],[-94.103602,-73.79016,0],[-94.168073,-73.788858,0],[-94.158698,-73.752845,0],[-94.223015,-73.751526,0],[-94.213539,-73.715519,0],[-94.277701,-73.714183,0],[-94.287321,-73.750186,0],[-94.351616,-73.748827,0],[-94.356514,-73.766828,0],[-94.420869,-73.765446,0],[-94.430842,-73.801447,0],[-94.559808,-73.798617,0],[-94.564955,-73.816615,0],[-94.629493,-73.815168,0],[-94.634725,-73.833165,0],[-94.699323,-73.831696,0],[-94.704639,-73.849692,0],[-94.769297,-73.848201,0],[-94.774698,-73.866196,0],[-94.839417,-73.864683,0],[-94.844902,-73.882677,0],[-94.909681,-73.881141,0],[-94.915251,-73.899134,0],[-94.980091,-73.897576,0],[-94.985747,-73.915568,0],[-95.050646,-73.913988,0],[-95.056388,-73.931978,0],[-95.121348,-73.930376,0],[-95.133017,-73.966355,0],[-95.263189,-73.963082,0],[-95.26919,-73.981068,0],[-95.399454,-73.97771,0],[-95.405616,-73.995692,0],[-95.535971,-73.992248,0],[-95.542294,-74.010228,0],[-95.672738,-74.006697,0],[-95.679223,-74.024673,0],[-95.809755,-74.021057,0],[-95.816402,-74.039029,0],[-95.947021,-74.035326,0],[-95.95383,-74.053295,0],[-96.149863,-74.047581,0],[-96.156909,-74.065543,0],[-96.222295,-74.063595,0],[-96.229432,-74.081555,0],[-96.294875,-74.079584,0],[-96.302101,-74.097543,0],[-96.367602,-74.095549,0],[-96.374919,-74.113506,0],[-96.506019,-74.109452,0],[-96.513501,-74.127404,0],[-96.775789,-74.119041,0],[-96.768011,-74.101099,0],[-96.833465,-74.098959,0],[-96.825632,-74.08102,0],[-97.021665,-74.074486,0],[-97.02972,-74.092418,0],[-97.095101,-74.090197,0],[-97.103247,-74.108126,0],[-97.234101,-74.103616,0],[-97.242413,-74.121541,0],[-97.438772,-74.114615,0],[-97.447324,-74.132532,0],[-97.512812,-74.13018,0],[-97.521457,-74.148094,0],[-97.783502,-74.138469,0],[-97.774563,-74.120566,0],[-98.035988,-74.110626,0],[-98.026778,-74.092735,0],[-98.678122,-74.06649,0],[-98.688058,-74.08435,0],[-99.208094,-74.061869,0],[-99.218628,-74.079702,0],[-99.672911,-74.058947,0],[-99.68397,-74.076757,0],[-99.878504,-74.067549,0],[-99.889802,-74.085347,0],[-99.954667,-74.082234,0],[-99.943298,-74.064439,0],[-100.008066,-74.061309,0],[-99.996651,-74.043518,0],[-100.061323,-74.040372,0],[-100.049863,-74.022585,0],[-100.114438,-74.019422,0],[-100.125968,-74.037206,0],[-100.190588,-74.03402,0],[-100.213868,-74.06958,0],[-100.278602,-74.066367,0],[-100.290352,-74.084143,0],[-100.355131,-74.080906,0],[-100.462734,-74.240864,0],[-100.528129,-74.237572,0],[-100.552486,-74.273111,0],[-100.617997,-74.26979,0],[-100.642611,-74.305321,0],[-100.708238,-74.301973,0],[-100.72066,-74.319735,0],[-100.786332,-74.316362,0],[-100.827076,-74.373988,0],[-100.925725,-74.378623,0],[-101.050277,-74.385754,0],[-101.126055,-74.400282,0],[-101.200663,-74.403148,0],[-101.276679,-74.412744,0],[-101.358339,-74.410301,0],[-101.433665,-74.404266,0],[-101.572267,-74.390817,0],[-101.698034,-74.375051,0],[-101.795349,-74.369597,0],[-101.914922,-74.383364,0],[-101.942992,-74.405238,0],[-101.986657,-74.414487,0],[-102.029215,-74.421347,0],[-102.080455,-74.419386,0],[-102.110682,-74.429878,0],[-102.150282,-74.438359,0],[-102.185211,-74.450043,0],[-102.236421,-74.463717,0],[-102.280808,-74.473374,0],[-102.377212,-74.483896,0],[-102.424826,-74.497263,0],[-102.411915,-74.510518,0],[-102.339743,-74.51083,0],[-102.264411,-74.519626,0],[-102.090552,-74.553133,0],[-102.035597,-74.564212,0],[-102.010395,-74.580201,0],[-102.026749,-74.590285,0],[-102.032573,-74.595827,0],[-101.986726,-74.595483,0],[-101.933735,-74.601768,0],[-101.870395,-74.608983,0],[-101.794801,-74.615021,0],[-101.781287,-74.617603,0],[-101.728673,-74.621731,0],[-101.695894,-74.628422,0],[-101.678978,-74.633321,0],[-101.676385,-74.635907,0],[-101.647793,-74.639151,0],[-101.627933,-74.648117,0],[-101.570915,-74.655354,0],[-101.545802,-74.657827,0],[-101.530932,-74.656493,0],[-101.482989,-74.660146,0],[-101.462601,-74.674445,0],[-101.416381,-74.679976,0],[-101.396392,-74.67954,0],[-101.364701,-74.681592,0],[-101.351676,-74.691805,0],[-101.306089,-74.693851,0],[-101.275428,-74.693637,0],[-101.254074,-74.700252,0],[-101.238372,-74.70027,0],[-101.230248,-74.703234,0],[-101.232933,-74.706803,0],[-101.219968,-74.709239,0],[-101.207959,-74.716895,0],[-101.188725,-74.7179,0],[-101.197349,-74.72643,0],[-101.200426,-74.734469,0],[-101.212936,-74.740259,0],[-101.216307,-74.748673,0],[-101.222641,-74.763963,0],[-101.240613,-74.770054,0],[-101.250447,-74.777156,0],[-101.257733,-74.779767,0],[-101.256493,-74.781809,0],[-101.267741,-74.78708,0],[-101.251822,-74.792086,0],[-101.259243,-74.798558,0],[-101.27464,-74.804247,0],[-101.276851,-74.808624,0],[-101.29282,-74.816401,0],[-101.312982,-74.826333,0],[-101.338827,-74.838164,0],[-101.363063,-74.853621,0],[-101.371447,-74.860874,0],[-101.391177,-74.870096,0],[-101.399072,-74.882138,0],[-101.420557,-74.891146,0],[-101.455398,-74.908855,0],[-101.469959,-74.921526,0],[-101.489949,-74.940509,0],[-101.549303,-74.990901,0],[-101.531499,-75.000643,0],[-101.547244,-75.015213,0],[-101.564382,-75.02971,0],[-101.631989,-75.054005,0],[-101.723655,-75.079577,0],[-101.726414,-75.090073,0],[-101.766389,-75.098945,0],[-101.821333,-75.103337,0],[-101.896684,-75.109917,0],[-101.923326,-75.111044,0],[-101.953576,-75.113073,0],[-101.969076,-75.11627,0],[-102.013199,-75.12121,0],[-102.040635,-75.126691,0],[-102.068876,-75.13139,0],[-102.113853,-75.130386,0],[-102.157455,-75.12945,0],[-102.223828,-75.128342,0],[-102.266406,-75.132957,0],[-102.34262,-75.146716,0],[-102.378744,-75.152045,0],[-102.511333,-75.159268,0],[-102.560626,-75.159773,0],[-102.607491,-75.160775,0],[-102.656346,-75.16239,0],[-102.744295,-75.17242,0],[-102.789524,-75.181222,0],[-102.825705,-75.184646,0],[-102.84957,-75.188785,0],[-102.873449,-75.192921,0],[-102.898283,-75.198106,0],[-102.921448,-75.203018,0],[-102.956754,-75.210167,0],[-102.981295,-75.215486,0],[-103.042136,-75.231576,0],[-103.086408,-75.237813,0],[-103.182394,-75.249825,0],[-103.224839,-75.25812,0],[-103.284801,-75.264374,0],[-103.37484,-75.273725,0],[-103.456714,-75.307204,0],[-103.509054,-75.329656,0],[-103.549124,-75.339049,0],[-103.639472,-75.360155,0],[-103.643531,-75.376578,0],[-103.74731,-75.394972,0],[-103.814359,-75.41156,0],[-103.846549,-75.420428,0],[-103.914847,-75.426057,0],[-103.942283,-75.45195,0],[-104.012128,-75.5223,0],[-103.941793,-75.526678,0],[-103.976811,-75.56186,0],[-103.90627,-75.566227,0],[-103.923762,-75.583823,0],[-103.428203,-75.613826,0],[-103.445162,-75.631459,0],[-103.303027,-75.639846,0],[-103.336738,-75.675132,0],[-103.265441,-75.679303,0],[-103.282275,-75.696951,0],[-103.210852,-75.701106,0],[-103.227644,-75.718758,0],[-103.012872,-75.731107,0],[-103.029452,-75.748774,0],[-102.957693,-75.752851,0],[-102.941198,-75.735179,0],[-102.869482,-75.739229,0],[-102.853113,-75.72155,0],[-102.70973,-75.729573,0],[-102.693572,-75.711884,0],[-102.478451,-75.723738,0],[-102.494353,-75.741443,0],[-102.350567,-75.749245,0],[-102.366338,-75.766959,0],[-102.294299,-75.770832,0],[-102.310023,-75.78855,0],[-102.237859,-75.792406,0],[-102.253535,-75.810129,0],[-102.181245,-75.813967,0],[-102.196874,-75.831696,0],[-102.124457,-75.835516,0],[-102.140038,-75.853249,0],[-102.067494,-75.857052,0],[-102.083027,-75.87479,0],[-102.010356,-75.878575,0],[-102.02584,-75.896317,0],[-101.953041,-75.900085,0],[-101.968477,-75.917832,0],[-101.89555,-75.921582,0],[-101.910936,-75.939333,0],[-101.837882,-75.943066,0],[-101.899461,-76.014086,0],[-101.752518,-76.021523,0],[-101.767832,-76.039287,0],[-101.694211,-76.042976,0],[-101.709473,-76.060745,0],[-101.635722,-76.064416,0],[-101.650932,-76.082189,0],[-101.577051,-76.085842,0],[-101.59221,-76.10362,0],[-101.518198,-76.107255,0],[-101.533304,-76.125037,0],[-101.459161,-76.128654,0],[-101.474214,-76.14644,0],[-101.399941,-76.150039,0],[-101.429978,-76.185621,0],[-101.280944,-76.192769,0],[-101.325735,-76.246168,0],[-101.250878,-76.249721,0],[-101.265793,-76.267525,0],[-101.190803,-76.27106,0],[-101.250474,-76.342292,0],[-101.175067,-76.345822,0],[-101.265184,-76.45269,0],[-101.341168,-76.449131,0],[-101.402436,-76.52035,0],[-101.326063,-76.523929,0],[-101.449791,-76.666392,0],[-101.372587,-76.669986,0],[-101.388141,-76.687797,0],[-101.310795,-76.691373,0],[-101.357407,-76.744819,0],[-101.279717,-76.748385,0],[-101.295238,-76.766205,0],[-101.217404,-76.769752,0],[-101.295133,-76.85887,0],[-101.216746,-76.862418,0],[-101.232316,-76.880245,0],[-101.153783,-76.883774,0],[-101.169293,-76.901606,0],[-101.090613,-76.905114,0],[-101.121553,-76.940788,0],[-101.042622,-76.944282,0],[-101.058051,-76.962123,0],[-100.899853,-76.969047,0],[-100.915114,-76.986897,0],[-100.835847,-76.990327,0],[-100.851044,-77.008182,0],[-100.692171,-77.014978,0],[-100.707198,-77.032842,0],[-100.627593,-77.036208,0],[-100.642555,-77.054077,0],[-100.483005,-77.060743,0],[-100.512625,-77.096499,0],[-100.432572,-77.099804,0],[-100.447336,-77.117686,0],[-99.965515,-77.137019,0],[-99.979666,-77.154929,0],[-99.818518,-77.161182,0],[-99.832489,-77.179101,0],[-99.509284,-77.191321,0],[-99.522851,-77.209257,0],[-99.036233,-77.226854,0],[-99.049167,-77.244815,0],[-98.642079,-77.2588,0],[-98.666926,-77.294764,0],[-98.421564,-77.302872,0],[-98.433698,-77.320866,0],[-97.28308,-77.355688,0],[-97.293628,-77.373733,0],[-97.376139,-77.371411,0],[-97.397559,-77.407495,0],[-97.480274,-77.405139,0],[-97.491148,-77.423178,0],[-97.325453,-77.42787,0],[-97.336123,-77.445916,0],[-97.253111,-77.448226,0],[-97.263693,-77.466276,0],[-96.680937,-77.481738,0],[-96.671187,-77.463665,0],[-96.58794,-77.465766,0],[-96.59757,-77.483841,0],[-96.514174,-77.485919,0],[-96.552494,-77.558236,0],[-96.384656,-77.562336,0],[-96.441516,-77.670857,0],[-96.526184,-77.668801,0],[-96.535882,-77.686886,0],[-96.620645,-77.6848,0],[-96.640377,-77.720964,0],[-96.725358,-77.718845,0],[-96.765675,-77.791162,0],[-96.851127,-77.789004,0],[-96.861407,-77.80708,0],[-96.946954,-77.804891,0],[-96.967859,-77.841038,0],[-97.139363,-77.836566,0],[-97.193451,-77.926901,0],[-97.27979,-77.924608,0],[-97.313022,-77.9788,0],[-97.399713,-77.976468,0],[-97.410987,-77.994529,0],[-97.497773,-77.992166,0],[-97.520682,-78.02828,0],[-97.607693,-78.025883,0],[-97.64271,-78.080044,0],[-97.555308,-78.082453,0],[-97.566921,-78.10051,0],[-97.391749,-78.105253,0],[-97.403134,-78.123318,0],[-97.315364,-78.125651,0],[-97.326651,-78.14372,0],[-97.238713,-78.14603,0],[-97.272383,-78.200248,0],[-97.184011,-78.20254,0],[-97.19517,-78.220617,0],[-97.018054,-78.225125,0],[-97.028977,-78.243209,0],[-96.940233,-78.245425,0],[-96.961909,-78.2816,0],[-96.872859,-78.283794,0],[-96.883611,-78.301886,0],[-96.794392,-78.304055,0],[-96.80504,-78.32215,0],[-96.536773,-78.328501,0],[-96.547041,-78.346606,0],[-96.457416,-78.34867,0],[-96.467577,-78.366779,0],[-96.377781,-78.368817,0],[-96.387836,-78.386929,0],[-96.297869,-78.388943,0],[-96.327803,-78.44329,0],[-96.146934,-78.447251,0],[-96.156692,-78.465373,0],[-96.06607,-78.467314,0],[-96.075717,-78.48544,0],[-95.803243,-78.491098,0],[-95.812493,-78.509234,0],[-95.721466,-78.511065,0],[-95.748962,-78.565482,0],[-95.474413,-78.57083,0],[-95.465652,-78.552682,0],[-95.191285,-78.557761,0],[-95.207964,-78.594073,0],[-95.024337,-78.597325,0],[-95.032424,-78.615487,0],[-94.940425,-78.617072,0],[-94.988611,-78.726066,0],[-94.895698,-78.727637,0],[-94.911669,-78.763976,0],[-95.004882,-78.7624,0],[-95.013057,-78.780567,0],[-95.106394,-78.778959,0],[-95.114747,-78.797124,0],[-95.301642,-78.793813,0],[-95.310325,-78.811973,0],[-95.403881,-78.81027,0],[-95.412744,-78.828427,0],[-95.506423,-78.826692,0],[-95.515467,-78.844846,0],[-95.609268,-78.843079,0],[-95.637038,-78.897535,0],[-95.542778,-78.899312,0],[-95.551942,-78.917468,0],[-95.457498,-78.919218,0],[-95.466538,-78.937377,0],[-95.37191,-78.9391,0],[-95.380824,-78.957262,0],[-95.475607,-78.955536,0],[-95.484707,-78.973695,0],[-95.579615,-78.971937,0],[-95.588901,-78.990093,0],[-95.683935,-78.988302,0],[-95.693408,-79.006456,0],[-95.598218,-79.00825,0],[-95.616944,-79.044565,0],[-95.425842,-79.048076,0],[-95.453215,-79.102568,0],[-95.357141,-79.104287,0],[-95.366167,-79.122454,0],[-95.269903,-79.124145,0],[-95.323729,-79.233172,0],[-95.420964,-79.231464,0],[-95.430206,-79.249633,0],[-95.332806,-79.251344,0],[-95.341915,-79.269517,0],[-95.244321,-79.271201,0],[-95.253295,-79.289376,0],[-95.155505,-79.291032,0],[-95.191045,-79.363748,0],[-95.092557,-79.365384,0],[-95.101351,-79.383566,0],[-94.903948,-79.38675,0],[-94.912434,-79.404938,0],[-94.81352,-79.406486,0],[-94.847075,-79.479253,0],[-94.747448,-79.48078,0],[-94.772403,-79.535367,0],[-94.672229,-79.53687,0],[-94.680431,-79.555069,0],[-94.379215,-79.559395,0],[-94.386921,-79.577602,0],[-94.185623,-79.580332,0],[-94.193003,-79.598544,0],[-94.092139,-79.599863,0],[-94.099369,-79.618077,0],[-93.998302,-79.619367,0],[-94.005379,-79.637584,0],[-93.90411,-79.638844,0],[-93.924956,-79.693505,0],[-93.823125,-79.694739,0],[-93.843651,-79.749409,0],[-93.946026,-79.748169,0],[-93.967323,-79.802836,0],[-93.864399,-79.804083,0],[-93.892414,-79.876987,0],[-93.788723,-79.87821,0],[-93.816393,-79.951128,0],[-93.711924,-79.952328,0],[-93.718714,-79.97056,0],[-93.61403,-79.971729,0],[-93.620655,-79.989964,0],[-93.515756,-79.991101,0],[-93.522213,-80.009338,0],[-93.417099,-80.010444,0],[-93.429699,-80.046925,0],[-93.324176,-80.048001,0],[-93.336481,-80.084487,0],[-93.230546,-80.085534,0],[-93.224577,-80.067288,0],[-93.118814,-80.0683,0],[-93.113062,-80.050053,0],[-93.007473,-80.051029,0],[-93.001935,-80.032781,0],[-92.896519,-80.033721,0],[-92.891195,-80.015471,0],[-92.785952,-80.016376,0],[-92.78084,-79.998126,0],[-92.570685,-79.999832,0],[-92.565975,-79.981578,0],[-92.461064,-79.982379,0],[-92.456562,-79.964125,0],[-92.351826,-79.964891,0],[-92.347532,-79.946636,0],[-92.138393,-79.948066,0],[-92.134495,-79.929808,0],[-92.030095,-79.930472,0],[-92.026401,-79.912214,0],[-91.922176,-79.912843,0],[-91.918685,-79.894584,0],[-91.814637,-79.895179,0],[-91.811346,-79.876919,0],[-91.707475,-79.87748,0],[-91.704384,-79.85922,0],[-91.808067,-79.85866,0],[-91.801545,-79.822143,0],[-91.698235,-79.822701,0],[-91.695178,-79.804442,0],[-91.488897,-79.805457,0],[-91.465152,-79.641131,0],[-91.36364,-79.641582,0],[-91.361228,-79.623325,0],[-91.259887,-79.623743,0],[-91.257663,-79.605486,0],[-91.055316,-79.606223,0],[-91.053456,-79.587965,0],[-90.447349,-79.5894,0],[-90.445777,-79.55288,0],[-90.546451,-79.552722,0],[-90.545492,-79.534464,0],[-90.444995,-79.534621,0],[-90.442666,-79.479848,0],[-90.342693,-79.479973,0],[-90.341501,-79.443459,0],[-90.241873,-79.443552,0],[-90.240618,-79.388785,0],[-90.141505,-79.388846,0],[-90.141261,-79.370591,0],[-90.042319,-79.37062,0],[-90.042173,-79.334112,0],[-90.140775,-79.334083,0],[-90.140292,-79.297577,0],[-90.042029,-79.297606,0],[-90.041814,-79.24285,0],[-89.846293,-79.242815,0],[-89.846555,-79.224564,0],[-89.748962,-79.2245,0],[-89.749389,-79.20625,0],[-89.651963,-79.206154,0],[-89.652554,-79.187905,0],[-89.555296,-79.187779,0],[-89.55605,-79.16953,0],[-89.458959,-79.169374,0],[-89.460787,-79.132879,0],[-89.364027,-79.132691,0],[-89.365099,-79.114445,0],[-89.268506,-79.114228,0],[-89.269737,-79.095982,0],[-89.173311,-79.095734,0],[-89.1747,-79.07749,0],[-88.982186,-79.076903,0],[-88.983893,-79.05866,0],[-89.272187,-79.059493,0],[-89.273406,-79.041249,0],[-89.465302,-79.04165,0],[-89.466196,-79.023406,0],[-89.561988,-79.023561,0],[-89.562719,-79.005317,0],[-89.75399,-79.005535,0],[-89.754809,-78.969048,0],[-89.850129,-78.969111,0],[-89.850378,-78.950868,0],[-89.94554,-78.950901,0],[-89.94563,-78.932659,0],[-90.040635,-78.932661,0],[-90.040568,-78.914419,0],[-90.230262,-78.914333,0],[-90.229502,-78.877852,0],[-90.324034,-78.877764,0],[-90.32191,-78.804808,0],[-90.41582,-78.804691,0],[-90.414462,-78.768217,0],[-90.508064,-78.76807,0],[-90.506409,-78.731598,0],[-90.599703,-78.731422,0],[-90.598728,-78.713188,0],[-90.691868,-78.712982,0],[-90.689626,-78.676516,0],[-90.78246,-78.676281,0],[-90.781194,-78.658049,0],[-90.873874,-78.657786,0],[-90.872462,-78.639554,0],[-91.150024,-78.638589,0],[-91.14817,-78.62036,0],[-91.24053,-78.61998,0],[-91.238533,-78.601752,0],[-91.330738,-78.601343,0],[-91.324343,-78.546665,0],[-91.507847,-78.545764,0],[-91.505436,-78.52754,0],[-91.59703,-78.527046,0],[-91.591939,-78.490602,0],[-91.683233,-78.490081,0],[-91.680555,-78.471861,0],[-91.771695,-78.471312,0],[-91.76888,-78.453093,0],[-91.859867,-78.452516,0],[-91.856918,-78.434298,0],[-91.947751,-78.433693,0],[-91.944667,-78.415477,0],[-92.035347,-78.414844,0],[-92.025726,-78.360203,0],[-92.115968,-78.359544,0],[-92.106013,-78.30491,0],[-92.016194,-78.305566,0],[-92.013037,-78.287355,0],[-91.833652,-78.288578,0],[-91.830785,-78.270365,0],[-91.651645,-78.271472,0],[-91.643932,-78.216832,0],[-91.554767,-78.217341,0],[-91.552351,-78.199128,0],[-91.463317,-78.199607,0],[-91.458782,-78.163181,0],[-91.370017,-78.163631,0],[-91.365784,-78.127206,0],[-91.188783,-78.128018,0],[-91.181481,-78.05517,0],[-91.093515,-78.055531,0],[-91.090167,-78.019109,0],[-90.914759,-78.019746,0],[-90.91336,-78.001535,0],[-90.825784,-78.001812,0],[-90.824523,-77.983601,0],[-90.737076,-77.983849,0],[-90.735953,-77.965638,0],[-90.823267,-77.96539,0],[-90.822014,-77.94718,0],[-90.909191,-77.946905,0],[-90.90781,-77.928697,0],[-90.820765,-77.928971,0],[-90.81952,-77.910763,0],[-90.732603,-77.911009,0],[-90.727088,-77.819973,0],[-90.81335,-77.819728,0],[-90.812128,-77.801523,0],[-91.070502,-77.800626,0],[-91.062516,-77.709615,0],[-91.14799,-77.709264,0],[-91.14118,-77.636469,0],[-91.480993,-77.634803,0],[-91.4788,-77.616608,0],[-91.90279,-77.613923,0],[-91.899978,-77.595733,0],[-91.984627,-77.595116,0],[-91.972963,-77.522365,0],[-92.141243,-77.521058,0],[-92.138102,-77.502874,0],[-92.390081,-77.500717,0],[-92.386581,-77.482537,0],[-92.470431,-77.481766,0],[-92.466819,-77.463587,0],[-92.383091,-77.464357,0],[-92.369233,-77.391642,0],[-92.285981,-77.392381,0],[-92.282662,-77.374202,0],[-92.199521,-77.374914,0],[-92.193152,-77.338557,0],[-92.276054,-77.337847,0],[-92.269483,-77.301495,0],[-92.352136,-77.300761,0],[-92.335283,-77.209895,0],[-92.08907,-77.212001,0],[-92.092069,-77.230176,0],[-91.434206,-77.234653,0],[-91.426015,-77.16193,0],[-91.180618,-77.16317,0],[-91.178934,-77.144989,0],[-91.015545,-77.145686,0],[-91.008355,-77.054784,0],[-91.089474,-77.054451,0],[-91.086397,-77.018096,0],[-91.167283,-77.017738,0],[-91.165637,-76.999562,0],[-91.327166,-76.998771,0],[-91.325297,-76.980597,0],[-91.647835,-76.97871,0],[-91.640906,-76.924199,0],[-91.721186,-76.923666,0],[-91.716375,-76.887329,0],[-91.796424,-76.886772,0],[-91.793917,-76.868605,0],[-91.873848,-76.868024,0],[-91.863446,-76.795367,0],[-91.783959,-76.795946,0],[-91.779021,-76.759619,0],[-91.699746,-76.760171,0],[-91.697397,-76.742008,0],[-91.539047,-76.743034,0],[-91.536922,-76.72487,0],[-91.062397,-76.727343,0],[-91.060932,-76.709176,0],[-90.823937,-76.710073,0],[-90.822803,-76.691906,0],[-90.743907,-76.692154,0],[-90.742884,-76.673987,0],[-90.664093,-76.67421,0],[-90.662272,-76.637877,0],[-90.583695,-76.638075,0],[-90.582098,-76.601744,0],[-90.503734,-76.601916,0],[-90.50236,-76.565588,0],[-90.424208,-76.565734,0],[-90.42363,-76.547571,0],[-90.345583,-76.547693,0],[-90.345113,-76.52953,0],[-90.111283,-76.529747,0],[-90.111131,-76.511584,0],[-90.033293,-76.511607,0],[-90.033248,-76.493445,0],[-89.955514,-76.493443,0],[-89.955575,-76.475282,0],[-89.877947,-76.475255,0],[-89.878112,-76.457095,0],[-89.80059,-76.457044,0],[-89.800859,-76.438884,0],[-89.723443,-76.438808,0],[-89.723816,-76.420649,0],[-89.569195,-76.420425,0],[-89.569775,-76.402267,0],[-89.492571,-76.402118,0],[-89.493254,-76.383961,0],[-89.416155,-76.383788,0],[-89.41694,-76.365631,0],[-89.339947,-76.365434,0],[-89.340833,-76.347279,0],[-89.263946,-76.347058,0],[-89.264932,-76.328903,0],[-89.111372,-76.328389,0],[-89.112561,-76.310235,0],[-89.035889,-76.309942,0],[-89.037177,-76.29179,0],[-88.960611,-76.291473,0],[-88.961998,-76.273321,0],[-88.885537,-76.272981,0],[-88.887022,-76.254831,0],[-88.810667,-76.254466,0],[-88.81225,-76.236317,0],[-88.736001,-76.235929,0],[-88.737681,-76.217781,0],[-88.585399,-76.216933,0],[-88.587276,-76.198787,0],[-88.511244,-76.198328,0],[-88.513217,-76.180183,0],[-88.43729,-76.1797,0],[-88.439359,-76.161557,0],[-88.363537,-76.161051,0],[-88.365701,-76.142909,0],[-88.214276,-76.141826,0],[-88.216633,-76.123686,0],[-88.14103,-76.123109,0],[-88.143481,-76.104971,0],[-88.067983,-76.104371,0],[-88.070527,-76.086234,0],[-87.995135,-76.085611,0],[-87.997771,-76.067476,0],[-87.922485,-76.06683,0],[-87.925213,-76.048696,0],[-87.774861,-76.047334,0],[-87.777778,-76.029203,0],[-87.627653,-76.027748,0],[-87.633856,-75.991491,0],[-87.559001,-75.99073,0],[-87.562188,-75.972604,0],[-87.487439,-75.97182,0],[-87.490715,-75.953695,0],[-87.341438,-75.95206,0],[-87.344899,-75.933938,0],[-87.27037,-75.933086,0],[-87.273919,-75.914965,0],[-87.199496,-75.914091,0],[-87.203132,-75.895972,0],[-87.128815,-75.895075,0],[-87.132537,-75.876959,0],[-87.058326,-75.87604,0],[-87.062135,-75.857925,0],[-86.988029,-75.856983,0],[-86.999681,-75.802647,0],[-86.925871,-75.801686,0],[-86.945563,-75.711143,0],[-86.872234,-75.710165,0],[-86.884208,-75.655851,0],[-86.957257,-75.656825,0],[-86.961136,-75.63872,0],[-87.034102,-75.63967,0],[-87.037878,-75.621564,0],[-86.965004,-75.620616,0],[-86.98038,-75.548205,0],[-87.052886,-75.549149,0],[-87.075115,-75.440545,0],[-87.003154,-75.439609,0],[-87.021872,-75.349129,0],[-86.950368,-75.348177,0],[-86.965529,-75.27581,0],[-86.894389,-75.274839,0],[-86.905925,-75.220574,0],[-86.835058,-75.219586,0],[-86.850654,-75.147247,0],[-86.780144,-75.14624,0],[-86.788057,-75.110077,0],[-86.717729,-75.109052,0],[-86.737771,-75.018662,0],[-86.667881,-75.01762,0],[-86.671945,-74.999545,0],[-86.602149,-74.998483,0],[-86.622742,-74.908126,0]]]}}]}. Band(s)=/ancillary_data/atlas_sdp_gps_epoch,/gt1l/land_ice_segments/atl06_quality_summary,/gt1l/land_ice_segments/delta_time,/gt1l/land_ice_segments/h_li,/gt1l/land_ice_segments/h_li_sigma,/gt1l/land_ice_segments/latitude,/gt1l/land_ice_segments/longitude,/gt1l/land_ice_segments/segment_id,/gt1l/land_ice_segments/sigma_geo_h,/gt1r/land_ice_segments/atl06_quality_summary,/gt1r/land_ice_segments/delta_time,/gt1r/land_ice_segments/h_li,/gt1r/land_ice_segments/h_li_sigma,/gt1r/land_ice_segments/latitude,/gt1r/land_ice_segments/longitude,/gt1r/land_ice_segments/segment_id,/gt1r/land_ice_segments/sigma_geo_h,/gt2l/land_ice_segments/atl06_quality_summary,/gt2l/land_ice_segments/delta_time,/gt2l/land_ice_segments/h_li,/gt2l/land_ice_segments/h_li_sigma,/gt2l/land_ice_segments/latitude,/gt2l/land_ice_segments/longitude,/gt2l/land_ice_segments/segment_id,/gt2l/land_ice_segments/sigma_geo_h,/gt2r/land_ice_segments/atl06_quality_summary,/gt2r/land_ice_segments/delta_time,/gt2r/land_ice_segments/h_li,/gt2r/land_ice_segments/h_li_sigma,/gt2r/land_ice_segments/latitude,/gt2r/land_ice_segments/longitude,/gt2r/land_ice_segments/segment_id,/gt2r/land_ice_segments/sigma_geo_h,/gt3l/land_ice_segments/atl06_quality_summary,/gt3l/land_ice_segments/delta_time,/gt3l/land_ice_segments/h_li,/gt3l/land_ice_segments/h_li_sigma,/gt3l/land_ice_segments/latitude,/gt3l/land_ice_segments/longitude,/gt3l/land_ice_segments/segment_id,/gt3l/land_ice_segments/sigma_geo_h,/gt3r/land_ice_segments/atl06_quality_summary,/gt3r/land_ice_segments/delta_time,/gt3r/land_ice_segments/h_li,/gt3r/land_ice_segments/h_li_sigma,/gt3r/land_ice_segments/latitude,/gt3r/land_ice_segments/longitude,/gt3r/land_ice_segments/segment_id,/gt3r/land_ice_segments/sigma_geo_h,/orbit_info/cycle_number,/orbit_info/rgt,/orbit_info/orbit_number. Granule id(s)=SC:ATL06.001:161340025,SC:ATL06.001:161340094,SC:ATL06.001:161340262,SC:ATL06.001:161326920. Temporal search start=2019-02-22T00:00:00 end=2019-02-22T23:59:59. Email address=amy.steiker@nsidc.org. Processing tool=ICESAT2.</Instructions>\\n    </order>\\n    <contactInformation>\\n        <contactName>NSIDC User Services</contactName>\\n        <contactEmail>nsidc@nsidc.org</contactEmail>\\n    </contactInformation>\\n    <processInfo>\\n        <processDuration>PT0.090S</processDuration>\\n        <subagentId>ICESAT2</subagentId>\\n    </processInfo>\\n    <requestStatus>\\n        <status>processing</status>\\n        <numberProcessed>0</numberProcessed>\\n        <totalNumber>4</totalNumber>\\n    </requestStatus>\\n</eesi:agentResponse>\\n'\n",
      "order ID:  5000000318717\n",
      "status URL:  https://n5eil02u.ecs.nsidc.org/egi/request/5000000318717\n",
      "HTTP response from order response URL:  201\n",
      "Data request  1  is submitting...\n",
      "Initial request status is  processing\n",
      "Status is not complete. Trying again.\n",
      "Retry request status is:  processing\n",
      "Status is not complete. Trying again.\n",
      "Retry request status is:  processing\n",
      "Status is not complete. Trying again.\n",
      "Retry request status is:  complete_with_errors\n",
      "error messages:\n",
      "['161340094:NoMatchingData - No data found that matched subset constraints. '\n",
      " 'Exit code 3.',\n",
      " 'PT25.365S',\n",
      " 'ICESAT2']\n",
      "Zip download URL:  https://n5eil02u.ecs.nsidc.org/esir/5000000318717.zip\n",
      "Beginning download of zipped output...\n",
      "Data request 1 is complete.\n"
     ]
    }
   ],
   "source": [
    "# Request data service for each page number, and unzip outputs\n",
    "\n",
    "for i in range(page_num):\n",
    "    page_val = i + 1\n",
    "    print('Order: ', page_val)\n",
    "    subset_params.update( {'page_num': page_val} )\n",
    "    \n",
    "# Post polygon to API endpoint for polygon subsetting to subset based on original, non-simplified KML file\n",
    "\n",
    "    shape_post = {'shapefile': open(kml_filepath, 'rb')}\n",
    "    request = session.post(base_url, params=subset_params, files=shape_post) \n",
    "    \n",
    "# FOR ALL OTHER REQUESTS THAT DO NOT UTILIZED AN UPLOADED POLYGON FILE, USE A GET REQUEST INSTEAD OF POST:\n",
    "#     request = session.get(base_url, params=request_params)\n",
    "    \n",
    "    print('Request HTTP response: ', request.status_code)\n",
    "\n",
    "# Raise bad request: Loop will stop for bad response code.\n",
    "    request.raise_for_status()\n",
    "    print('Order request URL: ', request.url)\n",
    "    esir_root = ET.fromstring(request.content)\n",
    "    print('Order request response XML content: ', request.content)\n",
    "\n",
    "# Look up order ID\n",
    "    orderlist = []   \n",
    "    for order in esir_root.findall(\"./order/\"):\n",
    "        orderlist.append(order.text)\n",
    "    orderID = orderlist[0]\n",
    "    print('order ID: ', orderID)\n",
    "\n",
    "# Create status URL\n",
    "    statusURL = base_url + '/' + orderID\n",
    "    print('status URL: ', statusURL)\n",
    "\n",
    "# Find order status\n",
    "    request_response = session.get(statusURL)    \n",
    "    print('HTTP response from order response URL: ', request_response.status_code)\n",
    "    \n",
    "# Raise bad request: Loop will stop for bad response code.\n",
    "    request_response.raise_for_status()\n",
    "    request_root = ET.fromstring(request_response.content)\n",
    "    statuslist = []\n",
    "    for status in request_root.findall(\"./requestStatus/\"):\n",
    "        statuslist.append(status.text)\n",
    "    status = statuslist[0]\n",
    "    print('Data request ', page_val, ' is submitting...')\n",
    "    print('Initial request status is ', status)\n",
    "\n",
    "# Continue to loop while request is still processing\n",
    "    while status == 'pending' or status == 'processing': \n",
    "        print('Status is not complete. Trying again.')\n",
    "        time.sleep(10)\n",
    "        loop_response = session.get(statusURL)\n",
    "\n",
    "# Raise bad request: Loop will stop for bad response code.\n",
    "        loop_response.raise_for_status()\n",
    "        loop_root = ET.fromstring(loop_response.content)\n",
    "\n",
    "# Find status\n",
    "        statuslist = []\n",
    "        for status in loop_root.findall(\"./requestStatus/\"):\n",
    "            statuslist.append(status.text)\n",
    "        status = statuslist[0]\n",
    "        print('Retry request status is: ', status)\n",
    "        if status == 'pending' or status == 'processing':\n",
    "            continue\n",
    "\n",
    "# Order can either complete, complete_with_errors, or fail:\n",
    "# Provide complete_with_errors error message:\n",
    "    if status == 'complete_with_errors' or status == 'failed':\n",
    "        messagelist = []\n",
    "        for message in loop_root.findall(\"./processInfo/\"):\n",
    "            messagelist.append(message.text)\n",
    "        print('error messages:')\n",
    "        pprint.pprint(messagelist)\n",
    "\n",
    "# Download zipped order if status is complete or complete_with_errors\n",
    "    if status == 'complete' or status == 'complete_with_errors':\n",
    "        downloadURL = 'https://n5eil02u.ecs.nsidc.org/esir/' + orderID + '.zip'\n",
    "        print('Zip download URL: ', downloadURL)\n",
    "        print('Beginning download of zipped output...')\n",
    "        zip_response = session.get(downloadURL)\n",
    "        # Raise bad request: Loop will stop for bad response code.\n",
    "        zip_response.raise_for_status()\n",
    "        with zipfile.ZipFile(io.BytesIO(zip_response.content)) as z:\n",
    "            z.extractall(path)\n",
    "        print('Data request', page_val, 'is complete.')\n",
    "    else: print('Request failed.')\n"
   ]
  },
  {
   "cell_type": "markdown",
   "metadata": {},
   "source": [
    "#### Why did we get an error? \n",
    "\n",
    "Errors can occur when our search filter overestimates the extent of the data contained within the granule. CMR uses orbit metadata to determine the extent of the file, but it does not inspect the values themselves. This can be a relatively common error for ICESat-2 search and access because of the limitations of the metadata, but it only means that more data were returned in the search results as a \"false positive\" compared to what the subsetter found when cropping the data values. "
   ]
  },
  {
   "cell_type": "markdown",
   "metadata": {},
   "source": [
    "#### Clean up the Output folder by removing individual order folders:"
   ]
  },
  {
   "cell_type": "code",
   "execution_count": 46,
   "metadata": {},
   "outputs": [],
   "source": [
    "#Clean up Outputs folder by removing individual granule folders \n",
    "\n",
    "for root, dirs, files in os.walk(path, topdown=False):\n",
    "    for file in files:\n",
    "        try:\n",
    "            shutil.move(os.path.join(root, file), path)\n",
    "        except OSError:\n",
    "            pass\n",
    "        \n",
    "for root, dirs, files in os.walk(path):\n",
    "    for name in dirs:\n",
    "        os.rmdir(os.path.join(root, name))"
   ]
  },
  {
   "cell_type": "code",
   "execution_count": 47,
   "metadata": {},
   "outputs": [
    {
     "data": {
      "text/plain": [
       "['ATL06_20190222031203_08500210_001_01.h5',\n",
       " 'ATL06_20190222031944_08500211_001_01.h5',\n",
       " 'ATL06_20190222155404_08580211_001_01.h5',\n",
       " 'ATL06_20190222155947_08580212_001_01.h5',\n",
       " 'processed_ATL06_20190222031203_08500210_001_01.h5',\n",
       " 'processed_ATL06_20190222155404_08580211_001_01.h5',\n",
       " 'processed_ATL06_20190222155947_08580212_001_01.h5']"
      ]
     },
     "execution_count": 47,
     "metadata": {},
     "output_type": "execute_result"
    }
   ],
   "source": [
    "#List files\n",
    "sorted(os.listdir(path))"
   ]
  },
  {
   "cell_type": "markdown",
   "metadata": {},
   "source": [
    "If you're interested in the synchronous request method, an example loop is below: "
   ]
  },
  {
   "cell_type": "code",
   "execution_count": null,
   "metadata": {},
   "outputs": [],
   "source": [
    "# # Set page size to 1 to improve performance\n",
    "# page_size = 1\n",
    "# request_params.update( {'page_size': page_size})\n",
    "\n",
    "# # No metadata to only return a single output\n",
    "# request_params.update( {'include_meta': 'N'})\n",
    "\n",
    "# #Determine number of pages basd on page_size and total granules. Loop requests by this value\n",
    "# page_num = math.ceil(len(granules)/page_size)\n",
    "# print(page_num)\n",
    "\n",
    "# #Set request mode. \n",
    "# request_params.update( {'request_mode': 'stream'})\n",
    "\n",
    "# print(request_params)\n",
    "\n",
    "# os.chdir(path)\n",
    "\n",
    "# for i in range(page_num):\n",
    "#     page_val = i + 1\n",
    "#     print('Order: ', page_val)\n",
    "#     request_params.update( {'page_num': page_val})\n",
    "#     request = session.get(base_url, params=request_params)\n",
    "#     print('HTTP response from order response URL: ', request.status_code)\n",
    "#     request.raise_for_status()\n",
    "#     d = request.headers['content-disposition']\n",
    "#     fname = re.findall('filename=(.+)', d)\n",
    "#     open(eval(fname[0]), 'wb').write(request.content)\n",
    "#     print('Data request', page_val, 'is complete.')"
   ]
  },
  {
   "cell_type": "markdown",
   "metadata": {},
   "source": [
    "### To review, we have explored data availability and volume over a region and time of interest, discovered and selected data customization options, and downloaded data directly to our Pangeo environment. You are welcome to modify the search and service parameters to submit more requests to NSIDC."
   ]
  }
 ],
 "metadata": {
  "kernelspec": {
   "display_name": "Python 3",
   "language": "python",
   "name": "python3"
  },
  "language_info": {
   "codemirror_mode": {
    "name": "ipython",
    "version": 3
   },
   "file_extension": ".py",
   "mimetype": "text/x-python",
   "name": "python",
   "nbconvert_exporter": "python",
   "pygments_lexer": "ipython3",
   "version": "3.6.7"
  }
 },
 "nbformat": 4,
 "nbformat_minor": 2
}
